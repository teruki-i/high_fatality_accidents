{
 "cells": [
  {
   "cell_type": "markdown",
   "id": "prostate-arizona",
   "metadata": {
    "id": "bA5ajAmk7XH6"
   },
   "source": [
    "# Reducing the number of high fatality accidents\n",
    "\n",
    "## 📖 Background\n",
    "You work for the road safety team within the department of transport and are looking into how they can reduce the number of major incidents. The safety team classes major incidents as fatal accidents involving 3+ casualties. They are trying to learn more about the characteristics of these major incidents so they can brainstorm interventions that could lower the number of deaths. They have asked for your assistance with answering a number of questions."
   ]
  },
  {
   "cell_type": "markdown",
   "id": "suspected-substitute",
   "metadata": {
    "id": "TAezigD_8u-1"
   },
   "source": [
    "## 💾 The data\n",
    "The reporting department have been collecting data on every accident that is reported. They've included this along with a lookup file for 2020's accidents.\n",
    "\n",
    "*Published by the department for transport. https://data.gov.uk/dataset/road-accidents-safety-data* \n",
    "*Contains public sector information licensed under the Open Government Licence v3.0.*"
   ]
  },
  {
   "cell_type": "code",
   "execution_count": 1,
   "id": "uniform-isolation",
   "metadata": {},
   "outputs": [
    {
     "data": {
      "application/com.datacamp.data-table.v1+json": {
       "is_truncated": false,
       "table": {
        "data": [
         {
          "accident_index": "2020010219808",
          "accident_reference": "10219808",
          "accident_severity": 3,
          "accident_year": 2020,
          "carriageway_hazards": 0,
          "date": "04/02/2020",
          "day_of_week": 3,
          "first_road_class": 6,
          "first_road_number": 0,
          "index": 0,
          "junction_control": -1,
          "junction_detail": 0,
          "latitude": 51.462262,
          "light_conditions": 1,
          "longitude": -0.254001,
          "number_of_casualties": 1,
          "number_of_vehicles": 1,
          "pedestrian_crossing_human_control": 9,
          "pedestrian_crossing_physical_facilities": 9,
          "road_surface_conditions": 9,
          "road_type": 6,
          "second_road_class": 6,
          "second_road_number": 0,
          "special_conditions_at_site": 0,
          "speed_limit": 20,
          "time": "09:00",
          "urban_or_rural_area": 1,
          "weather_conditions": 9
         },
         {
          "accident_index": "2020010220496",
          "accident_reference": "10220496",
          "accident_severity": 3,
          "accident_year": 2020,
          "carriageway_hazards": 0,
          "date": "27/04/2020",
          "day_of_week": 2,
          "first_road_class": 3,
          "first_road_number": 3036,
          "index": 1,
          "junction_control": 2,
          "junction_detail": 9,
          "latitude": 51.470327,
          "light_conditions": 1,
          "longitude": -0.139253,
          "number_of_casualties": 2,
          "number_of_vehicles": 1,
          "pedestrian_crossing_human_control": 0,
          "pedestrian_crossing_physical_facilities": 4,
          "road_surface_conditions": 1,
          "road_type": 6,
          "second_road_class": 6,
          "second_road_number": 0,
          "special_conditions_at_site": 0,
          "speed_limit": 20,
          "time": "13:55",
          "urban_or_rural_area": 1,
          "weather_conditions": 1
         },
         {
          "accident_index": "2020010228005",
          "accident_reference": "10228005",
          "accident_severity": 3,
          "accident_year": 2020,
          "carriageway_hazards": 0,
          "date": "01/01/2020",
          "day_of_week": 4,
          "first_road_class": 5,
          "first_road_number": 0,
          "index": 2,
          "junction_control": 1,
          "junction_detail": 3,
          "latitude": 51.529614,
          "light_conditions": 4,
          "longitude": -0.178719,
          "number_of_casualties": 1,
          "number_of_vehicles": 1,
          "pedestrian_crossing_human_control": 0,
          "pedestrian_crossing_physical_facilities": 0,
          "road_surface_conditions": 2,
          "road_type": 6,
          "second_road_class": 6,
          "second_road_number": 0,
          "special_conditions_at_site": 0,
          "speed_limit": 30,
          "time": "01:25",
          "urban_or_rural_area": 1,
          "weather_conditions": 1
         },
         {
          "accident_index": "2020010228006",
          "accident_reference": "10228006",
          "accident_severity": 2,
          "accident_year": 2020,
          "carriageway_hazards": 0,
          "date": "01/01/2020",
          "day_of_week": 4,
          "first_road_class": 3,
          "first_road_number": 11,
          "index": 3,
          "junction_control": -1,
          "junction_detail": 0,
          "latitude": 51.54121,
          "light_conditions": 4,
          "longitude": -0.001683,
          "number_of_casualties": 1,
          "number_of_vehicles": 1,
          "pedestrian_crossing_human_control": 0,
          "pedestrian_crossing_physical_facilities": 4,
          "road_surface_conditions": 1,
          "road_type": 6,
          "second_road_class": 6,
          "second_road_number": 0,
          "special_conditions_at_site": 0,
          "speed_limit": 30,
          "time": "01:50",
          "urban_or_rural_area": 1,
          "weather_conditions": 1
         },
         {
          "accident_index": "2020010228011",
          "accident_reference": "10228011",
          "accident_severity": 3,
          "accident_year": 2020,
          "carriageway_hazards": 0,
          "date": "01/01/2020",
          "day_of_week": 4,
          "first_road_class": 3,
          "first_road_number": 40,
          "index": 4,
          "junction_control": 4,
          "junction_detail": 3,
          "latitude": 51.515704,
          "light_conditions": 4,
          "longitude": -0.137592,
          "number_of_casualties": 2,
          "number_of_vehicles": 1,
          "pedestrian_crossing_human_control": 0,
          "pedestrian_crossing_physical_facilities": 0,
          "road_surface_conditions": 1,
          "road_type": 6,
          "second_road_class": 5,
          "second_road_number": 0,
          "special_conditions_at_site": 0,
          "speed_limit": 30,
          "time": "02:25",
          "urban_or_rural_area": 1,
          "weather_conditions": 1
         }
        ],
        "schema": {
         "fields": [
          {
           "name": "index",
           "type": "integer"
          },
          {
           "name": "accident_index",
           "type": "string"
          },
          {
           "name": "accident_year",
           "type": "integer"
          },
          {
           "name": "accident_reference",
           "type": "string"
          },
          {
           "name": "longitude",
           "type": "number"
          },
          {
           "name": "latitude",
           "type": "number"
          },
          {
           "name": "accident_severity",
           "type": "integer"
          },
          {
           "name": "number_of_vehicles",
           "type": "integer"
          },
          {
           "name": "number_of_casualties",
           "type": "integer"
          },
          {
           "name": "date",
           "type": "string"
          },
          {
           "name": "day_of_week",
           "type": "integer"
          },
          {
           "name": "time",
           "type": "string"
          },
          {
           "name": "first_road_class",
           "type": "integer"
          },
          {
           "name": "first_road_number",
           "type": "integer"
          },
          {
           "name": "road_type",
           "type": "integer"
          },
          {
           "name": "speed_limit",
           "type": "integer"
          },
          {
           "name": "junction_detail",
           "type": "integer"
          },
          {
           "name": "junction_control",
           "type": "integer"
          },
          {
           "name": "second_road_class",
           "type": "integer"
          },
          {
           "name": "second_road_number",
           "type": "integer"
          },
          {
           "name": "pedestrian_crossing_human_control",
           "type": "integer"
          },
          {
           "name": "pedestrian_crossing_physical_facilities",
           "type": "integer"
          },
          {
           "name": "light_conditions",
           "type": "integer"
          },
          {
           "name": "weather_conditions",
           "type": "integer"
          },
          {
           "name": "road_surface_conditions",
           "type": "integer"
          },
          {
           "name": "special_conditions_at_site",
           "type": "integer"
          },
          {
           "name": "carriageway_hazards",
           "type": "integer"
          },
          {
           "name": "urban_or_rural_area",
           "type": "integer"
          }
         ],
         "pandas_version": "0.20.0",
         "primaryKey": [
          "index"
         ]
        }
       },
       "total_rows": 5
      },
      "text/html": [
       "<div>\n",
       "<style scoped>\n",
       "    .dataframe tbody tr th:only-of-type {\n",
       "        vertical-align: middle;\n",
       "    }\n",
       "\n",
       "    .dataframe tbody tr th {\n",
       "        vertical-align: top;\n",
       "    }\n",
       "\n",
       "    .dataframe thead th {\n",
       "        text-align: right;\n",
       "    }\n",
       "</style>\n",
       "<table border=\"1\" class=\"dataframe\">\n",
       "  <thead>\n",
       "    <tr style=\"text-align: right;\">\n",
       "      <th></th>\n",
       "      <th>accident_index</th>\n",
       "      <th>accident_year</th>\n",
       "      <th>accident_reference</th>\n",
       "      <th>longitude</th>\n",
       "      <th>latitude</th>\n",
       "      <th>accident_severity</th>\n",
       "      <th>number_of_vehicles</th>\n",
       "      <th>number_of_casualties</th>\n",
       "      <th>date</th>\n",
       "      <th>day_of_week</th>\n",
       "      <th>...</th>\n",
       "      <th>second_road_class</th>\n",
       "      <th>second_road_number</th>\n",
       "      <th>pedestrian_crossing_human_control</th>\n",
       "      <th>pedestrian_crossing_physical_facilities</th>\n",
       "      <th>light_conditions</th>\n",
       "      <th>weather_conditions</th>\n",
       "      <th>road_surface_conditions</th>\n",
       "      <th>special_conditions_at_site</th>\n",
       "      <th>carriageway_hazards</th>\n",
       "      <th>urban_or_rural_area</th>\n",
       "    </tr>\n",
       "  </thead>\n",
       "  <tbody>\n",
       "    <tr>\n",
       "      <th>0</th>\n",
       "      <td>2020010219808</td>\n",
       "      <td>2020</td>\n",
       "      <td>10219808</td>\n",
       "      <td>-0.254001</td>\n",
       "      <td>51.462262</td>\n",
       "      <td>3</td>\n",
       "      <td>1</td>\n",
       "      <td>1</td>\n",
       "      <td>04/02/2020</td>\n",
       "      <td>3</td>\n",
       "      <td>...</td>\n",
       "      <td>6</td>\n",
       "      <td>0</td>\n",
       "      <td>9</td>\n",
       "      <td>9</td>\n",
       "      <td>1</td>\n",
       "      <td>9</td>\n",
       "      <td>9</td>\n",
       "      <td>0</td>\n",
       "      <td>0</td>\n",
       "      <td>1</td>\n",
       "    </tr>\n",
       "    <tr>\n",
       "      <th>1</th>\n",
       "      <td>2020010220496</td>\n",
       "      <td>2020</td>\n",
       "      <td>10220496</td>\n",
       "      <td>-0.139253</td>\n",
       "      <td>51.470327</td>\n",
       "      <td>3</td>\n",
       "      <td>1</td>\n",
       "      <td>2</td>\n",
       "      <td>27/04/2020</td>\n",
       "      <td>2</td>\n",
       "      <td>...</td>\n",
       "      <td>6</td>\n",
       "      <td>0</td>\n",
       "      <td>0</td>\n",
       "      <td>4</td>\n",
       "      <td>1</td>\n",
       "      <td>1</td>\n",
       "      <td>1</td>\n",
       "      <td>0</td>\n",
       "      <td>0</td>\n",
       "      <td>1</td>\n",
       "    </tr>\n",
       "    <tr>\n",
       "      <th>2</th>\n",
       "      <td>2020010228005</td>\n",
       "      <td>2020</td>\n",
       "      <td>10228005</td>\n",
       "      <td>-0.178719</td>\n",
       "      <td>51.529614</td>\n",
       "      <td>3</td>\n",
       "      <td>1</td>\n",
       "      <td>1</td>\n",
       "      <td>01/01/2020</td>\n",
       "      <td>4</td>\n",
       "      <td>...</td>\n",
       "      <td>6</td>\n",
       "      <td>0</td>\n",
       "      <td>0</td>\n",
       "      <td>0</td>\n",
       "      <td>4</td>\n",
       "      <td>1</td>\n",
       "      <td>2</td>\n",
       "      <td>0</td>\n",
       "      <td>0</td>\n",
       "      <td>1</td>\n",
       "    </tr>\n",
       "    <tr>\n",
       "      <th>3</th>\n",
       "      <td>2020010228006</td>\n",
       "      <td>2020</td>\n",
       "      <td>10228006</td>\n",
       "      <td>-0.001683</td>\n",
       "      <td>51.541210</td>\n",
       "      <td>2</td>\n",
       "      <td>1</td>\n",
       "      <td>1</td>\n",
       "      <td>01/01/2020</td>\n",
       "      <td>4</td>\n",
       "      <td>...</td>\n",
       "      <td>6</td>\n",
       "      <td>0</td>\n",
       "      <td>0</td>\n",
       "      <td>4</td>\n",
       "      <td>4</td>\n",
       "      <td>1</td>\n",
       "      <td>1</td>\n",
       "      <td>0</td>\n",
       "      <td>0</td>\n",
       "      <td>1</td>\n",
       "    </tr>\n",
       "    <tr>\n",
       "      <th>4</th>\n",
       "      <td>2020010228011</td>\n",
       "      <td>2020</td>\n",
       "      <td>10228011</td>\n",
       "      <td>-0.137592</td>\n",
       "      <td>51.515704</td>\n",
       "      <td>3</td>\n",
       "      <td>1</td>\n",
       "      <td>2</td>\n",
       "      <td>01/01/2020</td>\n",
       "      <td>4</td>\n",
       "      <td>...</td>\n",
       "      <td>5</td>\n",
       "      <td>0</td>\n",
       "      <td>0</td>\n",
       "      <td>0</td>\n",
       "      <td>4</td>\n",
       "      <td>1</td>\n",
       "      <td>1</td>\n",
       "      <td>0</td>\n",
       "      <td>0</td>\n",
       "      <td>1</td>\n",
       "    </tr>\n",
       "  </tbody>\n",
       "</table>\n",
       "<p>5 rows × 27 columns</p>\n",
       "</div>"
      ],
      "text/plain": [
       "  accident_index  accident_year accident_reference  longitude   latitude  \\\n",
       "0  2020010219808           2020           10219808  -0.254001  51.462262   \n",
       "1  2020010220496           2020           10220496  -0.139253  51.470327   \n",
       "2  2020010228005           2020           10228005  -0.178719  51.529614   \n",
       "3  2020010228006           2020           10228006  -0.001683  51.541210   \n",
       "4  2020010228011           2020           10228011  -0.137592  51.515704   \n",
       "\n",
       "   accident_severity  number_of_vehicles  number_of_casualties        date  \\\n",
       "0                  3                   1                     1  04/02/2020   \n",
       "1                  3                   1                     2  27/04/2020   \n",
       "2                  3                   1                     1  01/01/2020   \n",
       "3                  2                   1                     1  01/01/2020   \n",
       "4                  3                   1                     2  01/01/2020   \n",
       "\n",
       "   day_of_week  ... second_road_class  second_road_number  \\\n",
       "0            3  ...                 6                   0   \n",
       "1            2  ...                 6                   0   \n",
       "2            4  ...                 6                   0   \n",
       "3            4  ...                 6                   0   \n",
       "4            4  ...                 5                   0   \n",
       "\n",
       "   pedestrian_crossing_human_control  pedestrian_crossing_physical_facilities  \\\n",
       "0                                  9                                        9   \n",
       "1                                  0                                        4   \n",
       "2                                  0                                        0   \n",
       "3                                  0                                        4   \n",
       "4                                  0                                        0   \n",
       "\n",
       "   light_conditions  weather_conditions  road_surface_conditions  \\\n",
       "0                 1                   9                        9   \n",
       "1                 1                   1                        1   \n",
       "2                 4                   1                        2   \n",
       "3                 4                   1                        1   \n",
       "4                 4                   1                        1   \n",
       "\n",
       "   special_conditions_at_site  carriageway_hazards  urban_or_rural_area  \n",
       "0                           0                    0                    1  \n",
       "1                           0                    0                    1  \n",
       "2                           0                    0                    1  \n",
       "3                           0                    0                    1  \n",
       "4                           0                    0                    1  \n",
       "\n",
       "[5 rows x 27 columns]"
      ]
     },
     "execution_count": 1,
     "metadata": {},
     "output_type": "execute_result"
    }
   ],
   "source": [
    "import pandas as pd\n",
    "accidents = pd.read_csv(r'./data/accident-data.csv')\n",
    "accidents.head()"
   ]
  },
  {
   "cell_type": "code",
   "execution_count": 2,
   "id": "40fd7dcb-b77b-4c4d-8f06-1365225e7496",
   "metadata": {},
   "outputs": [
    {
     "data": {
      "application/com.datacamp.data-table.v1+json": {
       "is_truncated": false,
       "table": {
        "data": [
         {
          "code/format": null,
          "field name": "accident_index",
          "index": 0,
          "label": null,
          "note": "unique value for each accident. The accident_index combines the accident_year and accident_ref_no to form a unique ID. It can be used to join to Vehicle and Casualty",
          "table": "Accident"
         },
         {
          "code/format": null,
          "field name": "accident_year",
          "index": 1,
          "label": null,
          "note": null,
          "table": "Accident"
         },
         {
          "code/format": null,
          "field name": "accident_reference",
          "index": 2,
          "label": null,
          "note": "In year id used by the police to reference a collision. It is not unique outside of the year, use accident_index for linking to other years",
          "table": "Accident"
         },
         {
          "code/format": null,
          "field name": "longitude",
          "index": 3,
          "label": null,
          "note": "Null if not known",
          "table": "Accident"
         },
         {
          "code/format": null,
          "field name": "Latitude",
          "index": 4,
          "label": null,
          "note": "Null if not known",
          "table": "Accident"
         }
        ],
        "schema": {
         "fields": [
          {
           "name": "index",
           "type": "integer"
          },
          {
           "name": "table",
           "type": "string"
          },
          {
           "name": "field name",
           "type": "string"
          },
          {
           "name": "code/format",
           "type": "string"
          },
          {
           "name": "label",
           "type": "string"
          },
          {
           "name": "note",
           "type": "string"
          }
         ],
         "pandas_version": "0.20.0",
         "primaryKey": [
          "index"
         ]
        }
       },
       "total_rows": 5
      },
      "text/html": [
       "<div>\n",
       "<style scoped>\n",
       "    .dataframe tbody tr th:only-of-type {\n",
       "        vertical-align: middle;\n",
       "    }\n",
       "\n",
       "    .dataframe tbody tr th {\n",
       "        vertical-align: top;\n",
       "    }\n",
       "\n",
       "    .dataframe thead th {\n",
       "        text-align: right;\n",
       "    }\n",
       "</style>\n",
       "<table border=\"1\" class=\"dataframe\">\n",
       "  <thead>\n",
       "    <tr style=\"text-align: right;\">\n",
       "      <th></th>\n",
       "      <th>table</th>\n",
       "      <th>field name</th>\n",
       "      <th>code/format</th>\n",
       "      <th>label</th>\n",
       "      <th>note</th>\n",
       "    </tr>\n",
       "  </thead>\n",
       "  <tbody>\n",
       "    <tr>\n",
       "      <th>0</th>\n",
       "      <td>Accident</td>\n",
       "      <td>accident_index</td>\n",
       "      <td>NaN</td>\n",
       "      <td>NaN</td>\n",
       "      <td>unique value for each accident. The accident_i...</td>\n",
       "    </tr>\n",
       "    <tr>\n",
       "      <th>1</th>\n",
       "      <td>Accident</td>\n",
       "      <td>accident_year</td>\n",
       "      <td>NaN</td>\n",
       "      <td>NaN</td>\n",
       "      <td>NaN</td>\n",
       "    </tr>\n",
       "    <tr>\n",
       "      <th>2</th>\n",
       "      <td>Accident</td>\n",
       "      <td>accident_reference</td>\n",
       "      <td>NaN</td>\n",
       "      <td>NaN</td>\n",
       "      <td>In year id used by the police to reference a c...</td>\n",
       "    </tr>\n",
       "    <tr>\n",
       "      <th>3</th>\n",
       "      <td>Accident</td>\n",
       "      <td>longitude</td>\n",
       "      <td>NaN</td>\n",
       "      <td>NaN</td>\n",
       "      <td>Null if not known</td>\n",
       "    </tr>\n",
       "    <tr>\n",
       "      <th>4</th>\n",
       "      <td>Accident</td>\n",
       "      <td>Latitude</td>\n",
       "      <td>NaN</td>\n",
       "      <td>NaN</td>\n",
       "      <td>Null if not known</td>\n",
       "    </tr>\n",
       "  </tbody>\n",
       "</table>\n",
       "</div>"
      ],
      "text/plain": [
       "      table          field name code/format label  \\\n",
       "0  Accident      accident_index         NaN   NaN   \n",
       "1  Accident       accident_year         NaN   NaN   \n",
       "2  Accident  accident_reference         NaN   NaN   \n",
       "3  Accident           longitude         NaN   NaN   \n",
       "4  Accident            Latitude         NaN   NaN   \n",
       "\n",
       "                                                note  \n",
       "0  unique value for each accident. The accident_i...  \n",
       "1                                                NaN  \n",
       "2  In year id used by the police to reference a c...  \n",
       "3                                  Null if not known  \n",
       "4                                  Null if not known  "
      ]
     },
     "execution_count": 2,
     "metadata": {},
     "output_type": "execute_result"
    }
   ],
   "source": [
    "lookup = pd.read_csv(r'./data/road-safety-lookups.csv')\n",
    "lookup.head()"
   ]
  },
  {
   "cell_type": "markdown",
   "id": "recent-boards",
   "metadata": {
    "id": "Rm2MvBfC9mYK",
    "tags": []
   },
   "source": [
    "## 💪 Competition challenge\n",
    "\n",
    "Create a report that covers the following:\n",
    "\n",
    "1. What time of day and day of the week do most major incidents happen?\n",
    "2. Are there any patterns in the time of day/ day of the week when major incidents occur?\n",
    "3. What characteristics stand out in major incidents compared with other accidents?\n",
    "4. On what areas would you recommend the planning team focus their brainstorming efforts to reduce major incidents?"
   ]
  },
  {
   "cell_type": "markdown",
   "id": "young-evaluation",
   "metadata": {
    "id": "6zXWKexuHxE9"
   },
   "source": [
    "## 🧑‍⚖️ Judging criteria\n",
    "\n",
    "| CATEGORY | WEIGHTING | DETAILS                                                              |\n",
    "|:---------|:----------|:---------------------------------------------------------------------|\n",
    "| **Recommendations** | 35%       | <ul><li>Clarity of recommendations - how clear and well presented the recommendation is.</li><li>Quality of recommendations - are appropriate analytical techniques used & are the conclusions valid?</li><li>Number of relevant insights found for the target audience.</li></ul>       |\n",
    "| **Storytelling**  | 30%       | <ul><li>How well the data and insights are connected to the recommendation.</li><li>How the narrative and whole report connects together.</li><li>Balancing making the report in depth enough but also concise.</li></ul> |\n",
    "| **Visualizations** | 25% | <ul><li>Appropriateness of visualization used.</li><li>Clarity of insight from visualization.</li></ul> |\n",
    "| **Votes** | 10% | <ul><li>Up voting - most upvoted entries get the most points.</li></ul> |"
   ]
  },
  {
   "cell_type": "markdown",
   "id": "f0e743f6-4df4-4311-b0d6-7bfafbee8d89",
   "metadata": {},
   "source": [
    "## ✅ Checklist before publishing into the competition\n",
    "- Rename your workspace to make it descriptive of your work. N.B. you should leave the notebook name as notebook.ipynb.\n",
    "- Remove redundant cells like the judging criteria so the workbook is focused on your story.\n",
    "- Make sure the workbook reads well and explains how you found your insights.\n",
    "- Check that all the cells run without error."
   ]
  },
  {
   "cell_type": "markdown",
   "id": "71491e8e-31b3-40db-9298-d3c477ec6215",
   "metadata": {},
   "source": [
    "## ⌛️ Time is ticking. Good luck!"
   ]
  },
  {
   "cell_type": "markdown",
   "id": "dcd444fc-fcce-492d-a388-c8c3e046aa12",
   "metadata": {},
   "source": [
    "## What days of the week do major accidents happen the most?"
   ]
  },
  {
   "cell_type": "code",
   "execution_count": 3,
   "id": "b31e417b-f1dd-4061-9491-e71d9ce529bf",
   "metadata": {},
   "outputs": [
    {
     "name": "stdout",
     "output_type": "stream",
     "text": [
      "<class 'pandas.core.frame.DataFrame'>\n",
      "RangeIndex: 91199 entries, 0 to 91198\n",
      "Data columns (total 27 columns):\n",
      " #   Column                                   Non-Null Count  Dtype  \n",
      "---  ------                                   --------------  -----  \n",
      " 0   accident_index                           91199 non-null  object \n",
      " 1   accident_year                            91199 non-null  int64  \n",
      " 2   accident_reference                       91199 non-null  object \n",
      " 3   longitude                                91185 non-null  float64\n",
      " 4   latitude                                 91185 non-null  float64\n",
      " 5   accident_severity                        91199 non-null  int64  \n",
      " 6   number_of_vehicles                       91199 non-null  int64  \n",
      " 7   number_of_casualties                     91199 non-null  int64  \n",
      " 8   date                                     91199 non-null  object \n",
      " 9   day_of_week                              91199 non-null  int64  \n",
      " 10  time                                     91199 non-null  object \n",
      " 11  first_road_class                         91199 non-null  int64  \n",
      " 12  first_road_number                        91199 non-null  int64  \n",
      " 13  road_type                                91199 non-null  int64  \n",
      " 14  speed_limit                              91199 non-null  int64  \n",
      " 15  junction_detail                          91199 non-null  int64  \n",
      " 16  junction_control                         91199 non-null  int64  \n",
      " 17  second_road_class                        91199 non-null  int64  \n",
      " 18  second_road_number                       91199 non-null  int64  \n",
      " 19  pedestrian_crossing_human_control        91199 non-null  int64  \n",
      " 20  pedestrian_crossing_physical_facilities  91199 non-null  int64  \n",
      " 21  light_conditions                         91199 non-null  int64  \n",
      " 22  weather_conditions                       91199 non-null  int64  \n",
      " 23  road_surface_conditions                  91199 non-null  int64  \n",
      " 24  special_conditions_at_site               91199 non-null  int64  \n",
      " 25  carriageway_hazards                      91199 non-null  int64  \n",
      " 26  urban_or_rural_area                      91199 non-null  int64  \n",
      "dtypes: float64(2), int64(21), object(4)\n",
      "memory usage: 18.8+ MB\n"
     ]
    }
   ],
   "source": [
    "# examine data types\n",
    "accidents.info()"
   ]
  },
  {
   "cell_type": "code",
   "execution_count": 4,
   "id": "eac0c574-1731-4403-86d7-2533d70a20c2",
   "metadata": {},
   "outputs": [],
   "source": [
    "# replace numbers in 'day_of_week' column with text\n",
    "days_of_week=['Sunday','Monday','Tuesday','Wednesday','Thursday','Friday','Saturday']\n",
    "accidents['day_of_week']=accidents['day_of_week'].replace(\n",
    "                                    to_replace=[1,2,3,4,5,6,7],\n",
    "                                    value=days_of_week\n",
    ")"
   ]
  },
  {
   "cell_type": "code",
   "execution_count": 5,
   "id": "27d345f1-7c02-4fde-8f60-1fe69c86225f",
   "metadata": {},
   "outputs": [
    {
     "name": "stdout",
     "output_type": "stream",
     "text": [
      "<class 'pandas.core.frame.DataFrame'>\n",
      "RangeIndex: 91199 entries, 0 to 91198\n",
      "Data columns (total 27 columns):\n",
      " #   Column                                   Non-Null Count  Dtype         \n",
      "---  ------                                   --------------  -----         \n",
      " 0   accident_index                           91199 non-null  object        \n",
      " 1   accident_year                            91199 non-null  int64         \n",
      " 2   accident_reference                       91199 non-null  object        \n",
      " 3   longitude                                91185 non-null  float64       \n",
      " 4   latitude                                 91185 non-null  float64       \n",
      " 5   accident_severity                        91199 non-null  int64         \n",
      " 6   number_of_vehicles                       91199 non-null  int64         \n",
      " 7   number_of_casualties                     91199 non-null  int64         \n",
      " 8   date                                     91199 non-null  object        \n",
      " 9   day_of_week                              91199 non-null  object        \n",
      " 10  time                                     91199 non-null  datetime64[ns]\n",
      " 11  first_road_class                         91199 non-null  int64         \n",
      " 12  first_road_number                        91199 non-null  int64         \n",
      " 13  road_type                                91199 non-null  int64         \n",
      " 14  speed_limit                              91199 non-null  int64         \n",
      " 15  junction_detail                          91199 non-null  int64         \n",
      " 16  junction_control                         91199 non-null  int64         \n",
      " 17  second_road_class                        91199 non-null  int64         \n",
      " 18  second_road_number                       91199 non-null  int64         \n",
      " 19  pedestrian_crossing_human_control        91199 non-null  int64         \n",
      " 20  pedestrian_crossing_physical_facilities  91199 non-null  int64         \n",
      " 21  light_conditions                         91199 non-null  int64         \n",
      " 22  weather_conditions                       91199 non-null  int64         \n",
      " 23  road_surface_conditions                  91199 non-null  int64         \n",
      " 24  special_conditions_at_site               91199 non-null  int64         \n",
      " 25  carriageway_hazards                      91199 non-null  int64         \n",
      " 26  urban_or_rural_area                      91199 non-null  int64         \n",
      "dtypes: datetime64[ns](1), float64(2), int64(20), object(4)\n",
      "memory usage: 18.8+ MB\n"
     ]
    }
   ],
   "source": [
    "# convert 'time' column to timestamp\n",
    "accidents['time'] = pd.to_datetime(accidents['time'])\n",
    "accidents.info()"
   ]
  },
  {
   "cell_type": "code",
   "execution_count": 6,
   "id": "dbd28fc5-b347-4288-b29c-c4438eb7cd7f",
   "metadata": {},
   "outputs": [
    {
     "data": {
      "application/com.datacamp.data-table.v1+json": {
       "is_truncated": false,
       "table": {
        "data": [
         {
          "accident_index": "2020010219808",
          "accident_reference": "10219808",
          "accident_severity": 3,
          "accident_year": 2020,
          "carriageway_hazards": 0,
          "date": "04/02/2020",
          "day_of_week": "Tuesday",
          "first_road_class": 6,
          "first_road_number": 0,
          "index": 0,
          "junction_control": -1,
          "junction_detail": 0,
          "latitude": 51.462262,
          "light_conditions": 1,
          "longitude": -0.254001,
          "major": false,
          "number_of_casualties": 1,
          "number_of_vehicles": 1,
          "pedestrian_crossing_human_control": 9,
          "pedestrian_crossing_physical_facilities": 9,
          "road_surface_conditions": 9,
          "road_type": 6,
          "second_road_class": 6,
          "second_road_number": 0,
          "special_conditions_at_site": 0,
          "speed_limit": 20,
          "time": "2022-04-17T09:00:00.000Z",
          "urban_or_rural_area": 1,
          "weather_conditions": 9
         },
         {
          "accident_index": "2020010220496",
          "accident_reference": "10220496",
          "accident_severity": 3,
          "accident_year": 2020,
          "carriageway_hazards": 0,
          "date": "27/04/2020",
          "day_of_week": "Monday",
          "first_road_class": 3,
          "first_road_number": 3036,
          "index": 1,
          "junction_control": 2,
          "junction_detail": 9,
          "latitude": 51.470327,
          "light_conditions": 1,
          "longitude": -0.139253,
          "major": false,
          "number_of_casualties": 2,
          "number_of_vehicles": 1,
          "pedestrian_crossing_human_control": 0,
          "pedestrian_crossing_physical_facilities": 4,
          "road_surface_conditions": 1,
          "road_type": 6,
          "second_road_class": 6,
          "second_road_number": 0,
          "special_conditions_at_site": 0,
          "speed_limit": 20,
          "time": "2022-04-17T13:55:00.000Z",
          "urban_or_rural_area": 1,
          "weather_conditions": 1
         },
         {
          "accident_index": "2020010228005",
          "accident_reference": "10228005",
          "accident_severity": 3,
          "accident_year": 2020,
          "carriageway_hazards": 0,
          "date": "01/01/2020",
          "day_of_week": "Wednesday",
          "first_road_class": 5,
          "first_road_number": 0,
          "index": 2,
          "junction_control": 1,
          "junction_detail": 3,
          "latitude": 51.529614,
          "light_conditions": 4,
          "longitude": -0.178719,
          "major": false,
          "number_of_casualties": 1,
          "number_of_vehicles": 1,
          "pedestrian_crossing_human_control": 0,
          "pedestrian_crossing_physical_facilities": 0,
          "road_surface_conditions": 2,
          "road_type": 6,
          "second_road_class": 6,
          "second_road_number": 0,
          "special_conditions_at_site": 0,
          "speed_limit": 30,
          "time": "2022-04-17T01:25:00.000Z",
          "urban_or_rural_area": 1,
          "weather_conditions": 1
         },
         {
          "accident_index": "2020010228006",
          "accident_reference": "10228006",
          "accident_severity": 2,
          "accident_year": 2020,
          "carriageway_hazards": 0,
          "date": "01/01/2020",
          "day_of_week": "Wednesday",
          "first_road_class": 3,
          "first_road_number": 11,
          "index": 3,
          "junction_control": -1,
          "junction_detail": 0,
          "latitude": 51.54121,
          "light_conditions": 4,
          "longitude": -0.001683,
          "major": false,
          "number_of_casualties": 1,
          "number_of_vehicles": 1,
          "pedestrian_crossing_human_control": 0,
          "pedestrian_crossing_physical_facilities": 4,
          "road_surface_conditions": 1,
          "road_type": 6,
          "second_road_class": 6,
          "second_road_number": 0,
          "special_conditions_at_site": 0,
          "speed_limit": 30,
          "time": "2022-04-17T01:50:00.000Z",
          "urban_or_rural_area": 1,
          "weather_conditions": 1
         },
         {
          "accident_index": "2020010228011",
          "accident_reference": "10228011",
          "accident_severity": 3,
          "accident_year": 2020,
          "carriageway_hazards": 0,
          "date": "01/01/2020",
          "day_of_week": "Wednesday",
          "first_road_class": 3,
          "first_road_number": 40,
          "index": 4,
          "junction_control": 4,
          "junction_detail": 3,
          "latitude": 51.515704,
          "light_conditions": 4,
          "longitude": -0.137592,
          "major": false,
          "number_of_casualties": 2,
          "number_of_vehicles": 1,
          "pedestrian_crossing_human_control": 0,
          "pedestrian_crossing_physical_facilities": 0,
          "road_surface_conditions": 1,
          "road_type": 6,
          "second_road_class": 5,
          "second_road_number": 0,
          "special_conditions_at_site": 0,
          "speed_limit": 30,
          "time": "2022-04-17T02:25:00.000Z",
          "urban_or_rural_area": 1,
          "weather_conditions": 1
         }
        ],
        "schema": {
         "fields": [
          {
           "name": "index",
           "type": "integer"
          },
          {
           "name": "accident_index",
           "type": "string"
          },
          {
           "name": "accident_year",
           "type": "integer"
          },
          {
           "name": "accident_reference",
           "type": "string"
          },
          {
           "name": "longitude",
           "type": "number"
          },
          {
           "name": "latitude",
           "type": "number"
          },
          {
           "name": "accident_severity",
           "type": "integer"
          },
          {
           "name": "number_of_vehicles",
           "type": "integer"
          },
          {
           "name": "number_of_casualties",
           "type": "integer"
          },
          {
           "name": "date",
           "type": "string"
          },
          {
           "name": "day_of_week",
           "type": "string"
          },
          {
           "name": "time",
           "type": "datetime"
          },
          {
           "name": "first_road_class",
           "type": "integer"
          },
          {
           "name": "first_road_number",
           "type": "integer"
          },
          {
           "name": "road_type",
           "type": "integer"
          },
          {
           "name": "speed_limit",
           "type": "integer"
          },
          {
           "name": "junction_detail",
           "type": "integer"
          },
          {
           "name": "junction_control",
           "type": "integer"
          },
          {
           "name": "second_road_class",
           "type": "integer"
          },
          {
           "name": "second_road_number",
           "type": "integer"
          },
          {
           "name": "pedestrian_crossing_human_control",
           "type": "integer"
          },
          {
           "name": "pedestrian_crossing_physical_facilities",
           "type": "integer"
          },
          {
           "name": "light_conditions",
           "type": "integer"
          },
          {
           "name": "weather_conditions",
           "type": "integer"
          },
          {
           "name": "road_surface_conditions",
           "type": "integer"
          },
          {
           "name": "special_conditions_at_site",
           "type": "integer"
          },
          {
           "name": "carriageway_hazards",
           "type": "integer"
          },
          {
           "name": "urban_or_rural_area",
           "type": "integer"
          },
          {
           "name": "major",
           "type": "boolean"
          }
         ],
         "pandas_version": "0.20.0",
         "primaryKey": [
          "index"
         ]
        }
       },
       "total_rows": 5
      },
      "text/html": [
       "<div>\n",
       "<style scoped>\n",
       "    .dataframe tbody tr th:only-of-type {\n",
       "        vertical-align: middle;\n",
       "    }\n",
       "\n",
       "    .dataframe tbody tr th {\n",
       "        vertical-align: top;\n",
       "    }\n",
       "\n",
       "    .dataframe thead th {\n",
       "        text-align: right;\n",
       "    }\n",
       "</style>\n",
       "<table border=\"1\" class=\"dataframe\">\n",
       "  <thead>\n",
       "    <tr style=\"text-align: right;\">\n",
       "      <th></th>\n",
       "      <th>accident_index</th>\n",
       "      <th>accident_year</th>\n",
       "      <th>accident_reference</th>\n",
       "      <th>longitude</th>\n",
       "      <th>latitude</th>\n",
       "      <th>accident_severity</th>\n",
       "      <th>number_of_vehicles</th>\n",
       "      <th>number_of_casualties</th>\n",
       "      <th>date</th>\n",
       "      <th>day_of_week</th>\n",
       "      <th>...</th>\n",
       "      <th>second_road_number</th>\n",
       "      <th>pedestrian_crossing_human_control</th>\n",
       "      <th>pedestrian_crossing_physical_facilities</th>\n",
       "      <th>light_conditions</th>\n",
       "      <th>weather_conditions</th>\n",
       "      <th>road_surface_conditions</th>\n",
       "      <th>special_conditions_at_site</th>\n",
       "      <th>carriageway_hazards</th>\n",
       "      <th>urban_or_rural_area</th>\n",
       "      <th>major</th>\n",
       "    </tr>\n",
       "  </thead>\n",
       "  <tbody>\n",
       "    <tr>\n",
       "      <th>0</th>\n",
       "      <td>2020010219808</td>\n",
       "      <td>2020</td>\n",
       "      <td>10219808</td>\n",
       "      <td>-0.254001</td>\n",
       "      <td>51.462262</td>\n",
       "      <td>3</td>\n",
       "      <td>1</td>\n",
       "      <td>1</td>\n",
       "      <td>04/02/2020</td>\n",
       "      <td>Tuesday</td>\n",
       "      <td>...</td>\n",
       "      <td>0</td>\n",
       "      <td>9</td>\n",
       "      <td>9</td>\n",
       "      <td>1</td>\n",
       "      <td>9</td>\n",
       "      <td>9</td>\n",
       "      <td>0</td>\n",
       "      <td>0</td>\n",
       "      <td>1</td>\n",
       "      <td>False</td>\n",
       "    </tr>\n",
       "    <tr>\n",
       "      <th>1</th>\n",
       "      <td>2020010220496</td>\n",
       "      <td>2020</td>\n",
       "      <td>10220496</td>\n",
       "      <td>-0.139253</td>\n",
       "      <td>51.470327</td>\n",
       "      <td>3</td>\n",
       "      <td>1</td>\n",
       "      <td>2</td>\n",
       "      <td>27/04/2020</td>\n",
       "      <td>Monday</td>\n",
       "      <td>...</td>\n",
       "      <td>0</td>\n",
       "      <td>0</td>\n",
       "      <td>4</td>\n",
       "      <td>1</td>\n",
       "      <td>1</td>\n",
       "      <td>1</td>\n",
       "      <td>0</td>\n",
       "      <td>0</td>\n",
       "      <td>1</td>\n",
       "      <td>False</td>\n",
       "    </tr>\n",
       "    <tr>\n",
       "      <th>2</th>\n",
       "      <td>2020010228005</td>\n",
       "      <td>2020</td>\n",
       "      <td>10228005</td>\n",
       "      <td>-0.178719</td>\n",
       "      <td>51.529614</td>\n",
       "      <td>3</td>\n",
       "      <td>1</td>\n",
       "      <td>1</td>\n",
       "      <td>01/01/2020</td>\n",
       "      <td>Wednesday</td>\n",
       "      <td>...</td>\n",
       "      <td>0</td>\n",
       "      <td>0</td>\n",
       "      <td>0</td>\n",
       "      <td>4</td>\n",
       "      <td>1</td>\n",
       "      <td>2</td>\n",
       "      <td>0</td>\n",
       "      <td>0</td>\n",
       "      <td>1</td>\n",
       "      <td>False</td>\n",
       "    </tr>\n",
       "    <tr>\n",
       "      <th>3</th>\n",
       "      <td>2020010228006</td>\n",
       "      <td>2020</td>\n",
       "      <td>10228006</td>\n",
       "      <td>-0.001683</td>\n",
       "      <td>51.541210</td>\n",
       "      <td>2</td>\n",
       "      <td>1</td>\n",
       "      <td>1</td>\n",
       "      <td>01/01/2020</td>\n",
       "      <td>Wednesday</td>\n",
       "      <td>...</td>\n",
       "      <td>0</td>\n",
       "      <td>0</td>\n",
       "      <td>4</td>\n",
       "      <td>4</td>\n",
       "      <td>1</td>\n",
       "      <td>1</td>\n",
       "      <td>0</td>\n",
       "      <td>0</td>\n",
       "      <td>1</td>\n",
       "      <td>False</td>\n",
       "    </tr>\n",
       "    <tr>\n",
       "      <th>4</th>\n",
       "      <td>2020010228011</td>\n",
       "      <td>2020</td>\n",
       "      <td>10228011</td>\n",
       "      <td>-0.137592</td>\n",
       "      <td>51.515704</td>\n",
       "      <td>3</td>\n",
       "      <td>1</td>\n",
       "      <td>2</td>\n",
       "      <td>01/01/2020</td>\n",
       "      <td>Wednesday</td>\n",
       "      <td>...</td>\n",
       "      <td>0</td>\n",
       "      <td>0</td>\n",
       "      <td>0</td>\n",
       "      <td>4</td>\n",
       "      <td>1</td>\n",
       "      <td>1</td>\n",
       "      <td>0</td>\n",
       "      <td>0</td>\n",
       "      <td>1</td>\n",
       "      <td>False</td>\n",
       "    </tr>\n",
       "  </tbody>\n",
       "</table>\n",
       "<p>5 rows × 28 columns</p>\n",
       "</div>"
      ],
      "text/plain": [
       "  accident_index  accident_year accident_reference  longitude   latitude  \\\n",
       "0  2020010219808           2020           10219808  -0.254001  51.462262   \n",
       "1  2020010220496           2020           10220496  -0.139253  51.470327   \n",
       "2  2020010228005           2020           10228005  -0.178719  51.529614   \n",
       "3  2020010228006           2020           10228006  -0.001683  51.541210   \n",
       "4  2020010228011           2020           10228011  -0.137592  51.515704   \n",
       "\n",
       "   accident_severity  number_of_vehicles  number_of_casualties        date  \\\n",
       "0                  3                   1                     1  04/02/2020   \n",
       "1                  3                   1                     2  27/04/2020   \n",
       "2                  3                   1                     1  01/01/2020   \n",
       "3                  2                   1                     1  01/01/2020   \n",
       "4                  3                   1                     2  01/01/2020   \n",
       "\n",
       "  day_of_week  ... second_road_number  pedestrian_crossing_human_control  \\\n",
       "0     Tuesday  ...                  0                                  9   \n",
       "1      Monday  ...                  0                                  0   \n",
       "2   Wednesday  ...                  0                                  0   \n",
       "3   Wednesday  ...                  0                                  0   \n",
       "4   Wednesday  ...                  0                                  0   \n",
       "\n",
       "   pedestrian_crossing_physical_facilities  light_conditions  \\\n",
       "0                                        9                 1   \n",
       "1                                        4                 1   \n",
       "2                                        0                 4   \n",
       "3                                        4                 4   \n",
       "4                                        0                 4   \n",
       "\n",
       "   weather_conditions  road_surface_conditions  special_conditions_at_site  \\\n",
       "0                   9                        9                           0   \n",
       "1                   1                        1                           0   \n",
       "2                   1                        2                           0   \n",
       "3                   1                        1                           0   \n",
       "4                   1                        1                           0   \n",
       "\n",
       "   carriageway_hazards  urban_or_rural_area  major  \n",
       "0                    0                    1  False  \n",
       "1                    0                    1  False  \n",
       "2                    0                    1  False  \n",
       "3                    0                    1  False  \n",
       "4                    0                    1  False  \n",
       "\n",
       "[5 rows x 28 columns]"
      ]
     },
     "execution_count": 6,
     "metadata": {},
     "output_type": "execute_result"
    }
   ],
   "source": [
    "# add column identifying if accident is major\n",
    "accidents['major'] = (accidents['number_of_casualties']>=3)\n",
    "accidents.head()"
   ]
  },
  {
   "cell_type": "code",
   "execution_count": 7,
   "id": "7d087387-2124-4720-9f21-c79d6c350fba",
   "metadata": {},
   "outputs": [
    {
     "data": {
      "application/com.datacamp.data-table.v1+json": {
       "is_truncated": false,
       "table": {
        "data": [
         {
          "accident_index": "2020010228024",
          "accident_reference": "10228024",
          "accident_severity": 2,
          "accident_year": 2020,
          "carriageway_hazards": 0,
          "date": "01/01/2020",
          "day_of_week": "Wednesday",
          "first_road_class": 3,
          "first_road_number": 10,
          "index": 11,
          "junction_control": 2,
          "junction_detail": 6,
          "latitude": 51.660013,
          "light_conditions": 4,
          "longitude": -0.05862,
          "major": true,
          "number_of_casualties": 4,
          "number_of_vehicles": 3,
          "pedestrian_crossing_human_control": 0,
          "pedestrian_crossing_physical_facilities": 5,
          "road_surface_conditions": 2,
          "road_type": 3,
          "second_road_class": 5,
          "second_road_number": 0,
          "special_conditions_at_site": 0,
          "speed_limit": 40,
          "time": "2022-04-17T03:40:00.000Z",
          "urban_or_rural_area": 1,
          "weather_conditions": 1
         },
         {
          "accident_index": "2020010228521",
          "accident_reference": "10228521",
          "accident_severity": 3,
          "accident_year": 2020,
          "carriageway_hazards": 0,
          "date": "03/01/2020",
          "day_of_week": "Friday",
          "first_road_class": 3,
          "first_road_number": 10,
          "index": 136,
          "junction_control": 2,
          "junction_detail": 1,
          "latitude": 51.616219,
          "light_conditions": 4,
          "longitude": -0.08652,
          "major": true,
          "number_of_casualties": 4,
          "number_of_vehicles": 1,
          "pedestrian_crossing_human_control": 0,
          "pedestrian_crossing_physical_facilities": 9,
          "road_surface_conditions": 1,
          "road_type": 1,
          "second_road_class": 3,
          "second_road_number": 406,
          "special_conditions_at_site": 0,
          "speed_limit": 20,
          "time": "2022-04-17T22:45:00.000Z",
          "urban_or_rural_area": 1,
          "weather_conditions": 1
         },
         {
          "accident_index": "2020010228625",
          "accident_reference": "10228625",
          "accident_severity": 3,
          "accident_year": 2020,
          "carriageway_hazards": 0,
          "date": "05/01/2020",
          "day_of_week": "Sunday",
          "first_road_class": 3,
          "first_road_number": 3205,
          "index": 173,
          "junction_control": -1,
          "junction_detail": 0,
          "latitude": 51.459756,
          "light_conditions": 1,
          "longitude": -0.190729,
          "major": true,
          "number_of_casualties": 3,
          "number_of_vehicles": 3,
          "pedestrian_crossing_human_control": 0,
          "pedestrian_crossing_physical_facilities": 0,
          "road_surface_conditions": 1,
          "road_type": 3,
          "second_road_class": 6,
          "second_road_number": 0,
          "special_conditions_at_site": 0,
          "speed_limit": 30,
          "time": "2022-04-17T11:20:00.000Z",
          "urban_or_rural_area": 1,
          "weather_conditions": 1
         },
         {
          "accident_index": "2020010228670",
          "accident_reference": "10228670",
          "accident_severity": 3,
          "accident_year": 2020,
          "carriageway_hazards": 0,
          "date": "05/01/2020",
          "day_of_week": "Sunday",
          "first_road_class": 6,
          "first_road_number": 0,
          "index": 187,
          "junction_control": 4,
          "junction_detail": 3,
          "latitude": 51.478366,
          "light_conditions": 1,
          "longitude": 0.185884,
          "major": true,
          "number_of_casualties": 3,
          "number_of_vehicles": 2,
          "pedestrian_crossing_human_control": 0,
          "pedestrian_crossing_physical_facilities": 0,
          "road_surface_conditions": 1,
          "road_type": 6,
          "second_road_class": 6,
          "second_road_number": 0,
          "special_conditions_at_site": 0,
          "speed_limit": 30,
          "time": "2022-04-17T14:33:00.000Z",
          "urban_or_rural_area": 1,
          "weather_conditions": 1
         },
         {
          "accident_index": "2020010228789",
          "accident_reference": "10228789",
          "accident_severity": 2,
          "accident_year": 2020,
          "carriageway_hazards": 0,
          "date": "06/01/2020",
          "day_of_week": "Monday",
          "first_road_class": 4,
          "first_road_number": 4557,
          "index": 212,
          "junction_control": -1,
          "junction_detail": 0,
          "latitude": 51.553577,
          "light_conditions": 4,
          "longitude": -0.251891,
          "major": true,
          "number_of_casualties": 4,
          "number_of_vehicles": 2,
          "pedestrian_crossing_human_control": 0,
          "pedestrian_crossing_physical_facilities": 0,
          "road_surface_conditions": 1,
          "road_type": 6,
          "second_road_class": 6,
          "second_road_number": 0,
          "special_conditions_at_site": 6,
          "speed_limit": 30,
          "time": "2022-04-17T15:50:00.000Z",
          "urban_or_rural_area": 1,
          "weather_conditions": 1
         }
        ],
        "schema": {
         "fields": [
          {
           "name": "index",
           "type": "integer"
          },
          {
           "name": "accident_index",
           "type": "string"
          },
          {
           "name": "accident_year",
           "type": "integer"
          },
          {
           "name": "accident_reference",
           "type": "string"
          },
          {
           "name": "longitude",
           "type": "number"
          },
          {
           "name": "latitude",
           "type": "number"
          },
          {
           "name": "accident_severity",
           "type": "integer"
          },
          {
           "name": "number_of_vehicles",
           "type": "integer"
          },
          {
           "name": "number_of_casualties",
           "type": "integer"
          },
          {
           "name": "date",
           "type": "string"
          },
          {
           "name": "day_of_week",
           "type": "string"
          },
          {
           "name": "time",
           "type": "datetime"
          },
          {
           "name": "first_road_class",
           "type": "integer"
          },
          {
           "name": "first_road_number",
           "type": "integer"
          },
          {
           "name": "road_type",
           "type": "integer"
          },
          {
           "name": "speed_limit",
           "type": "integer"
          },
          {
           "name": "junction_detail",
           "type": "integer"
          },
          {
           "name": "junction_control",
           "type": "integer"
          },
          {
           "name": "second_road_class",
           "type": "integer"
          },
          {
           "name": "second_road_number",
           "type": "integer"
          },
          {
           "name": "pedestrian_crossing_human_control",
           "type": "integer"
          },
          {
           "name": "pedestrian_crossing_physical_facilities",
           "type": "integer"
          },
          {
           "name": "light_conditions",
           "type": "integer"
          },
          {
           "name": "weather_conditions",
           "type": "integer"
          },
          {
           "name": "road_surface_conditions",
           "type": "integer"
          },
          {
           "name": "special_conditions_at_site",
           "type": "integer"
          },
          {
           "name": "carriageway_hazards",
           "type": "integer"
          },
          {
           "name": "urban_or_rural_area",
           "type": "integer"
          },
          {
           "name": "major",
           "type": "boolean"
          }
         ],
         "pandas_version": "0.20.0",
         "primaryKey": [
          "index"
         ]
        }
       },
       "total_rows": 5
      },
      "text/html": [
       "<div>\n",
       "<style scoped>\n",
       "    .dataframe tbody tr th:only-of-type {\n",
       "        vertical-align: middle;\n",
       "    }\n",
       "\n",
       "    .dataframe tbody tr th {\n",
       "        vertical-align: top;\n",
       "    }\n",
       "\n",
       "    .dataframe thead th {\n",
       "        text-align: right;\n",
       "    }\n",
       "</style>\n",
       "<table border=\"1\" class=\"dataframe\">\n",
       "  <thead>\n",
       "    <tr style=\"text-align: right;\">\n",
       "      <th></th>\n",
       "      <th>accident_index</th>\n",
       "      <th>accident_year</th>\n",
       "      <th>accident_reference</th>\n",
       "      <th>longitude</th>\n",
       "      <th>latitude</th>\n",
       "      <th>accident_severity</th>\n",
       "      <th>number_of_vehicles</th>\n",
       "      <th>number_of_casualties</th>\n",
       "      <th>date</th>\n",
       "      <th>day_of_week</th>\n",
       "      <th>...</th>\n",
       "      <th>second_road_number</th>\n",
       "      <th>pedestrian_crossing_human_control</th>\n",
       "      <th>pedestrian_crossing_physical_facilities</th>\n",
       "      <th>light_conditions</th>\n",
       "      <th>weather_conditions</th>\n",
       "      <th>road_surface_conditions</th>\n",
       "      <th>special_conditions_at_site</th>\n",
       "      <th>carriageway_hazards</th>\n",
       "      <th>urban_or_rural_area</th>\n",
       "      <th>major</th>\n",
       "    </tr>\n",
       "  </thead>\n",
       "  <tbody>\n",
       "    <tr>\n",
       "      <th>11</th>\n",
       "      <td>2020010228024</td>\n",
       "      <td>2020</td>\n",
       "      <td>10228024</td>\n",
       "      <td>-0.058620</td>\n",
       "      <td>51.660013</td>\n",
       "      <td>2</td>\n",
       "      <td>3</td>\n",
       "      <td>4</td>\n",
       "      <td>01/01/2020</td>\n",
       "      <td>Wednesday</td>\n",
       "      <td>...</td>\n",
       "      <td>0</td>\n",
       "      <td>0</td>\n",
       "      <td>5</td>\n",
       "      <td>4</td>\n",
       "      <td>1</td>\n",
       "      <td>2</td>\n",
       "      <td>0</td>\n",
       "      <td>0</td>\n",
       "      <td>1</td>\n",
       "      <td>True</td>\n",
       "    </tr>\n",
       "    <tr>\n",
       "      <th>136</th>\n",
       "      <td>2020010228521</td>\n",
       "      <td>2020</td>\n",
       "      <td>10228521</td>\n",
       "      <td>-0.086520</td>\n",
       "      <td>51.616219</td>\n",
       "      <td>3</td>\n",
       "      <td>1</td>\n",
       "      <td>4</td>\n",
       "      <td>03/01/2020</td>\n",
       "      <td>Friday</td>\n",
       "      <td>...</td>\n",
       "      <td>406</td>\n",
       "      <td>0</td>\n",
       "      <td>9</td>\n",
       "      <td>4</td>\n",
       "      <td>1</td>\n",
       "      <td>1</td>\n",
       "      <td>0</td>\n",
       "      <td>0</td>\n",
       "      <td>1</td>\n",
       "      <td>True</td>\n",
       "    </tr>\n",
       "    <tr>\n",
       "      <th>173</th>\n",
       "      <td>2020010228625</td>\n",
       "      <td>2020</td>\n",
       "      <td>10228625</td>\n",
       "      <td>-0.190729</td>\n",
       "      <td>51.459756</td>\n",
       "      <td>3</td>\n",
       "      <td>3</td>\n",
       "      <td>3</td>\n",
       "      <td>05/01/2020</td>\n",
       "      <td>Sunday</td>\n",
       "      <td>...</td>\n",
       "      <td>0</td>\n",
       "      <td>0</td>\n",
       "      <td>0</td>\n",
       "      <td>1</td>\n",
       "      <td>1</td>\n",
       "      <td>1</td>\n",
       "      <td>0</td>\n",
       "      <td>0</td>\n",
       "      <td>1</td>\n",
       "      <td>True</td>\n",
       "    </tr>\n",
       "    <tr>\n",
       "      <th>187</th>\n",
       "      <td>2020010228670</td>\n",
       "      <td>2020</td>\n",
       "      <td>10228670</td>\n",
       "      <td>0.185884</td>\n",
       "      <td>51.478366</td>\n",
       "      <td>3</td>\n",
       "      <td>2</td>\n",
       "      <td>3</td>\n",
       "      <td>05/01/2020</td>\n",
       "      <td>Sunday</td>\n",
       "      <td>...</td>\n",
       "      <td>0</td>\n",
       "      <td>0</td>\n",
       "      <td>0</td>\n",
       "      <td>1</td>\n",
       "      <td>1</td>\n",
       "      <td>1</td>\n",
       "      <td>0</td>\n",
       "      <td>0</td>\n",
       "      <td>1</td>\n",
       "      <td>True</td>\n",
       "    </tr>\n",
       "    <tr>\n",
       "      <th>212</th>\n",
       "      <td>2020010228789</td>\n",
       "      <td>2020</td>\n",
       "      <td>10228789</td>\n",
       "      <td>-0.251891</td>\n",
       "      <td>51.553577</td>\n",
       "      <td>2</td>\n",
       "      <td>2</td>\n",
       "      <td>4</td>\n",
       "      <td>06/01/2020</td>\n",
       "      <td>Monday</td>\n",
       "      <td>...</td>\n",
       "      <td>0</td>\n",
       "      <td>0</td>\n",
       "      <td>0</td>\n",
       "      <td>4</td>\n",
       "      <td>1</td>\n",
       "      <td>1</td>\n",
       "      <td>6</td>\n",
       "      <td>0</td>\n",
       "      <td>1</td>\n",
       "      <td>True</td>\n",
       "    </tr>\n",
       "  </tbody>\n",
       "</table>\n",
       "<p>5 rows × 28 columns</p>\n",
       "</div>"
      ],
      "text/plain": [
       "    accident_index  accident_year accident_reference  longitude   latitude  \\\n",
       "11   2020010228024           2020           10228024  -0.058620  51.660013   \n",
       "136  2020010228521           2020           10228521  -0.086520  51.616219   \n",
       "173  2020010228625           2020           10228625  -0.190729  51.459756   \n",
       "187  2020010228670           2020           10228670   0.185884  51.478366   \n",
       "212  2020010228789           2020           10228789  -0.251891  51.553577   \n",
       "\n",
       "     accident_severity  number_of_vehicles  number_of_casualties        date  \\\n",
       "11                   2                   3                     4  01/01/2020   \n",
       "136                  3                   1                     4  03/01/2020   \n",
       "173                  3                   3                     3  05/01/2020   \n",
       "187                  3                   2                     3  05/01/2020   \n",
       "212                  2                   2                     4  06/01/2020   \n",
       "\n",
       "    day_of_week  ... second_road_number  pedestrian_crossing_human_control  \\\n",
       "11    Wednesday  ...                  0                                  0   \n",
       "136      Friday  ...                406                                  0   \n",
       "173      Sunday  ...                  0                                  0   \n",
       "187      Sunday  ...                  0                                  0   \n",
       "212      Monday  ...                  0                                  0   \n",
       "\n",
       "     pedestrian_crossing_physical_facilities  light_conditions  \\\n",
       "11                                         5                 4   \n",
       "136                                        9                 4   \n",
       "173                                        0                 1   \n",
       "187                                        0                 1   \n",
       "212                                        0                 4   \n",
       "\n",
       "     weather_conditions  road_surface_conditions  special_conditions_at_site  \\\n",
       "11                    1                        2                           0   \n",
       "136                   1                        1                           0   \n",
       "173                   1                        1                           0   \n",
       "187                   1                        1                           0   \n",
       "212                   1                        1                           6   \n",
       "\n",
       "     carriageway_hazards  urban_or_rural_area  major  \n",
       "11                     0                    1   True  \n",
       "136                    0                    1   True  \n",
       "173                    0                    1   True  \n",
       "187                    0                    1   True  \n",
       "212                    0                    1   True  \n",
       "\n",
       "[5 rows x 28 columns]"
      ]
     },
     "execution_count": 7,
     "metadata": {},
     "output_type": "execute_result"
    }
   ],
   "source": [
    "# filter data for major accidents\n",
    "major_accidents = accidents[accidents['major']==True]\n",
    "major_accidents.head()"
   ]
  },
  {
   "cell_type": "code",
   "execution_count": 37,
   "id": "732d453b-958f-4626-b198-93bf52d70b65",
   "metadata": {},
   "outputs": [
    {
     "data": {
      "text/plain": [
       "day_of_week\n",
       "Friday       798\n",
       "Monday       614\n",
       "Saturday     820\n",
       "Sunday       687\n",
       "Thursday     645\n",
       "Tuesday      621\n",
       "Wednesday    632\n",
       "Name: major, dtype: int64"
      ]
     },
     "execution_count": 37,
     "metadata": {},
     "output_type": "execute_result"
    }
   ],
   "source": [
    "# count major accidents by day of week\n",
    "major_accidents.groupby('day_of_week')['major'].sum()"
   ]
  },
  {
   "cell_type": "code",
   "execution_count": 38,
   "id": "8a0621e0-1461-47c3-a6f9-4e73a99a249c",
   "metadata": {},
   "outputs": [
    {
     "data": {
      "image/png": "[encoded data removed]",
      "text/plain": [
       "<Figure size 720x360 with 1 Axes>"
      ]
     },
     "metadata": {
      "needs_background": "light"
     },
     "output_type": "display_data"
    }
   ],
   "source": [
    "import matplotlib.pyplot as plt\n",
    "import seaborn as sns\n",
    "\n",
    "sns.countplot(x='day_of_week', data=major_accidents, order=days_of_week)\n",
    "plt.gcf().set_size_inches(10,5)\n",
    "plt.suptitle(' Number of Major Accidents by Day of Week')\n",
    "plt.ylabel('Number of Major Accidents')\n",
    "plt.xlabel('Day of Week')\n",
    "plt.show()"
   ]
  },
  {
   "cell_type": "markdown",
   "id": "7d5106e5-d2cc-4392-bfda-5e6ed43bde50",
   "metadata": {},
   "source": [
    "Major accidents seem to happen most on Fridays and Saturdays. In our data, 798 major accidents happened on Fridays and 820 happened on Saturdays. Sundays seemed to also have more accidents than most weekdays with 687 major accidents in the data set.\n",
    "\n",
    "There seems to be a pattern with accidents increasing gradually over week days. Mondays had 614 major accidents and this gradually increased to 645 major accidents on Thursdays. This then sharply increased to 798 major accidents, as pointed out above, on Fridays. "
   ]
  },
  {
   "cell_type": "markdown",
   "id": "652a3443-b41d-46fb-bbe8-1e0903a48005",
   "metadata": {},
   "source": [
    "## What time of day do major accidents happen the most?"
   ]
  },
  {
   "cell_type": "code",
   "execution_count": 10,
   "id": "88be7dbe-599f-4057-a1f9-79b5630af351",
   "metadata": {},
   "outputs": [
    {
     "data": {
      "text/plain": [
       "time\n",
       "2022-04-17 00:00:00     94\n",
       "2022-04-17 01:00:00     73\n",
       "2022-04-17 02:00:00     54\n",
       "2022-04-17 03:00:00     48\n",
       "2022-04-17 04:00:00     33\n",
       "2022-04-17 05:00:00     41\n",
       "2022-04-17 06:00:00     65\n",
       "2022-04-17 07:00:00    110\n",
       "2022-04-17 08:00:00    197\n",
       "2022-04-17 09:00:00    149\n",
       "2022-04-17 10:00:00    211\n",
       "2022-04-17 11:00:00    242\n",
       "2022-04-17 12:00:00    272\n",
       "2022-04-17 13:00:00    312\n",
       "2022-04-17 14:00:00    372\n",
       "2022-04-17 15:00:00    401\n",
       "2022-04-17 16:00:00    433\n",
       "2022-04-17 17:00:00    374\n",
       "2022-04-17 18:00:00    341\n",
       "2022-04-17 19:00:00    286\n",
       "2022-04-17 20:00:00    232\n",
       "2022-04-17 21:00:00    159\n",
       "2022-04-17 22:00:00    181\n",
       "2022-04-17 23:00:00    137\n",
       "Freq: H, Name: accident_index, dtype: int64"
      ]
     },
     "execution_count": 10,
     "metadata": {},
     "output_type": "execute_result"
    }
   ],
   "source": [
    "# count number of major accidents by hour of day\n",
    "major_times = major_accidents.resample('H', on='time')['accident_index'].count()\n",
    "major_times"
   ]
  },
  {
   "cell_type": "code",
   "execution_count": 11,
   "id": "06ca1337-c448-45db-baaa-487e1e798566",
   "metadata": {},
   "outputs": [
    {
     "data": {
      "text/plain": [
       "Int64Index([ 0,  1,  2,  3,  4,  5,  6,  7,  8,  9, 10, 11, 12, 13, 14, 15, 16,\n",
       "            17, 18, 19, 20, 21, 22, 23],\n",
       "           dtype='int64', name='time')"
      ]
     },
     "execution_count": 11,
     "metadata": {},
     "output_type": "execute_result"
    }
   ],
   "source": [
    "# Extract hour of day from major_times index\n",
    "major_hours = major_times.index.hour\n",
    "major_hours"
   ]
  },
  {
   "cell_type": "code",
   "execution_count": 12,
   "id": "94de43b2-d82f-45d3-b8b5-60998ed575e1",
   "metadata": {},
   "outputs": [
    {
     "data": {
      "image/png": "[encoded data removed]",
      "text/plain": [
       "<Figure size 432x288 with 1 Axes>"
      ]
     },
     "metadata": {
      "needs_background": "light"
     },
     "output_type": "display_data"
    }
   ],
   "source": [
    "sns.barplot(x=major_hours, y=major_times)\n",
    "plt.ylabel('Number of Major Accidents')\n",
    "plt.xlabel('Hour of Day')\n",
    "plt.suptitle('Major Accidents by Hour of Day')\n",
    "plt.show()"
   ]
  },
  {
   "cell_type": "markdown",
   "id": "ecd33d3b-36c7-4f47-a4af-2c19003b5a7e",
   "metadata": {},
   "source": [
    "Major accidents seemed to peak during the late afternoon/early evening hours. In this data set, the hour between 4PM and 5PM has the most major accidents at 433. In fact, the number of major accidents increases every hour--except for the hour between 8AM and 9AM--from the early morning hour between 4AM and 5AM at 33 major accidents until the peak between 4PM and 5PM. From 5PM there's a noticeable decrease every hour--except for the hour between 9PM and 10PM--until the low point between 4AM and 5AM."
   ]
  },
  {
   "cell_type": "markdown",
   "id": "12975f52-73ff-44a9-98a9-6b77aea36af7",
   "metadata": {},
   "source": [
    "## How about non-major accidents?\n",
    "Is there a similar pattern for non-major accidents?"
   ]
  },
  {
   "cell_type": "code",
   "execution_count": 18,
   "id": "3ea323c6-d732-4410-9361-ac09c9318eba",
   "metadata": {},
   "outputs": [
    {
     "data": {
      "application/com.datacamp.data-table.v1+json": {
       "is_truncated": false,
       "table": {
        "data": [
         {
          "accident_index": "2020010219808",
          "accident_reference": "10219808",
          "accident_severity": 3,
          "accident_year": 2020,
          "carriageway_hazards": 0,
          "date": "04/02/2020",
          "day_of_week": "Tuesday",
          "first_road_class": 6,
          "first_road_number": 0,
          "index": 0,
          "junction_control": -1,
          "junction_detail": 0,
          "latitude": 51.462262,
          "light_conditions": 1,
          "longitude": -0.254001,
          "major": false,
          "number_of_casualties": 1,
          "number_of_vehicles": 1,
          "pedestrian_crossing_human_control": 9,
          "pedestrian_crossing_physical_facilities": 9,
          "road_surface_conditions": 9,
          "road_type": 6,
          "second_road_class": 6,
          "second_road_number": 0,
          "special_conditions_at_site": 0,
          "speed_limit": 20,
          "time": "2022-04-17T09:00:00.000Z",
          "urban_or_rural_area": 1,
          "weather_conditions": 9
         },
         {
          "accident_index": "2020010220496",
          "accident_reference": "10220496",
          "accident_severity": 3,
          "accident_year": 2020,
          "carriageway_hazards": 0,
          "date": "27/04/2020",
          "day_of_week": "Monday",
          "first_road_class": 3,
          "first_road_number": 3036,
          "index": 1,
          "junction_control": 2,
          "junction_detail": 9,
          "latitude": 51.470327,
          "light_conditions": 1,
          "longitude": -0.139253,
          "major": false,
          "number_of_casualties": 2,
          "number_of_vehicles": 1,
          "pedestrian_crossing_human_control": 0,
          "pedestrian_crossing_physical_facilities": 4,
          "road_surface_conditions": 1,
          "road_type": 6,
          "second_road_class": 6,
          "second_road_number": 0,
          "special_conditions_at_site": 0,
          "speed_limit": 20,
          "time": "2022-04-17T13:55:00.000Z",
          "urban_or_rural_area": 1,
          "weather_conditions": 1
         },
         {
          "accident_index": "2020010228005",
          "accident_reference": "10228005",
          "accident_severity": 3,
          "accident_year": 2020,
          "carriageway_hazards": 0,
          "date": "01/01/2020",
          "day_of_week": "Wednesday",
          "first_road_class": 5,
          "first_road_number": 0,
          "index": 2,
          "junction_control": 1,
          "junction_detail": 3,
          "latitude": 51.529614,
          "light_conditions": 4,
          "longitude": -0.178719,
          "major": false,
          "number_of_casualties": 1,
          "number_of_vehicles": 1,
          "pedestrian_crossing_human_control": 0,
          "pedestrian_crossing_physical_facilities": 0,
          "road_surface_conditions": 2,
          "road_type": 6,
          "second_road_class": 6,
          "second_road_number": 0,
          "special_conditions_at_site": 0,
          "speed_limit": 30,
          "time": "2022-04-17T01:25:00.000Z",
          "urban_or_rural_area": 1,
          "weather_conditions": 1
         },
         {
          "accident_index": "2020010228006",
          "accident_reference": "10228006",
          "accident_severity": 2,
          "accident_year": 2020,
          "carriageway_hazards": 0,
          "date": "01/01/2020",
          "day_of_week": "Wednesday",
          "first_road_class": 3,
          "first_road_number": 11,
          "index": 3,
          "junction_control": -1,
          "junction_detail": 0,
          "latitude": 51.54121,
          "light_conditions": 4,
          "longitude": -0.001683,
          "major": false,
          "number_of_casualties": 1,
          "number_of_vehicles": 1,
          "pedestrian_crossing_human_control": 0,
          "pedestrian_crossing_physical_facilities": 4,
          "road_surface_conditions": 1,
          "road_type": 6,
          "second_road_class": 6,
          "second_road_number": 0,
          "special_conditions_at_site": 0,
          "speed_limit": 30,
          "time": "2022-04-17T01:50:00.000Z",
          "urban_or_rural_area": 1,
          "weather_conditions": 1
         },
         {
          "accident_index": "2020010228011",
          "accident_reference": "10228011",
          "accident_severity": 3,
          "accident_year": 2020,
          "carriageway_hazards": 0,
          "date": "01/01/2020",
          "day_of_week": "Wednesday",
          "first_road_class": 3,
          "first_road_number": 40,
          "index": 4,
          "junction_control": 4,
          "junction_detail": 3,
          "latitude": 51.515704,
          "light_conditions": 4,
          "longitude": -0.137592,
          "major": false,
          "number_of_casualties": 2,
          "number_of_vehicles": 1,
          "pedestrian_crossing_human_control": 0,
          "pedestrian_crossing_physical_facilities": 0,
          "road_surface_conditions": 1,
          "road_type": 6,
          "second_road_class": 5,
          "second_road_number": 0,
          "special_conditions_at_site": 0,
          "speed_limit": 30,
          "time": "2022-04-17T02:25:00.000Z",
          "urban_or_rural_area": 1,
          "weather_conditions": 1
         }
        ],
        "schema": {
         "fields": [
          {
           "name": "index",
           "type": "integer"
          },
          {
           "name": "accident_index",
           "type": "string"
          },
          {
           "name": "accident_year",
           "type": "integer"
          },
          {
           "name": "accident_reference",
           "type": "string"
          },
          {
           "name": "longitude",
           "type": "number"
          },
          {
           "name": "latitude",
           "type": "number"
          },
          {
           "name": "accident_severity",
           "type": "integer"
          },
          {
           "name": "number_of_vehicles",
           "type": "integer"
          },
          {
           "name": "number_of_casualties",
           "type": "integer"
          },
          {
           "name": "date",
           "type": "string"
          },
          {
           "name": "day_of_week",
           "type": "string"
          },
          {
           "name": "time",
           "type": "datetime"
          },
          {
           "name": "first_road_class",
           "type": "integer"
          },
          {
           "name": "first_road_number",
           "type": "integer"
          },
          {
           "name": "road_type",
           "type": "integer"
          },
          {
           "name": "speed_limit",
           "type": "integer"
          },
          {
           "name": "junction_detail",
           "type": "integer"
          },
          {
           "name": "junction_control",
           "type": "integer"
          },
          {
           "name": "second_road_class",
           "type": "integer"
          },
          {
           "name": "second_road_number",
           "type": "integer"
          },
          {
           "name": "pedestrian_crossing_human_control",
           "type": "integer"
          },
          {
           "name": "pedestrian_crossing_physical_facilities",
           "type": "integer"
          },
          {
           "name": "light_conditions",
           "type": "integer"
          },
          {
           "name": "weather_conditions",
           "type": "integer"
          },
          {
           "name": "road_surface_conditions",
           "type": "integer"
          },
          {
           "name": "special_conditions_at_site",
           "type": "integer"
          },
          {
           "name": "carriageway_hazards",
           "type": "integer"
          },
          {
           "name": "urban_or_rural_area",
           "type": "integer"
          },
          {
           "name": "major",
           "type": "boolean"
          }
         ],
         "pandas_version": "0.20.0",
         "primaryKey": [
          "index"
         ]
        }
       },
       "total_rows": 5
      },
      "text/html": [
       "<div>\n",
       "<style scoped>\n",
       "    .dataframe tbody tr th:only-of-type {\n",
       "        vertical-align: middle;\n",
       "    }\n",
       "\n",
       "    .dataframe tbody tr th {\n",
       "        vertical-align: top;\n",
       "    }\n",
       "\n",
       "    .dataframe thead th {\n",
       "        text-align: right;\n",
       "    }\n",
       "</style>\n",
       "<table border=\"1\" class=\"dataframe\">\n",
       "  <thead>\n",
       "    <tr style=\"text-align: right;\">\n",
       "      <th></th>\n",
       "      <th>accident_index</th>\n",
       "      <th>accident_year</th>\n",
       "      <th>accident_reference</th>\n",
       "      <th>longitude</th>\n",
       "      <th>latitude</th>\n",
       "      <th>accident_severity</th>\n",
       "      <th>number_of_vehicles</th>\n",
       "      <th>number_of_casualties</th>\n",
       "      <th>date</th>\n",
       "      <th>day_of_week</th>\n",
       "      <th>...</th>\n",
       "      <th>second_road_number</th>\n",
       "      <th>pedestrian_crossing_human_control</th>\n",
       "      <th>pedestrian_crossing_physical_facilities</th>\n",
       "      <th>light_conditions</th>\n",
       "      <th>weather_conditions</th>\n",
       "      <th>road_surface_conditions</th>\n",
       "      <th>special_conditions_at_site</th>\n",
       "      <th>carriageway_hazards</th>\n",
       "      <th>urban_or_rural_area</th>\n",
       "      <th>major</th>\n",
       "    </tr>\n",
       "  </thead>\n",
       "  <tbody>\n",
       "    <tr>\n",
       "      <th>0</th>\n",
       "      <td>2020010219808</td>\n",
       "      <td>2020</td>\n",
       "      <td>10219808</td>\n",
       "      <td>-0.254001</td>\n",
       "      <td>51.462262</td>\n",
       "      <td>3</td>\n",
       "      <td>1</td>\n",
       "      <td>1</td>\n",
       "      <td>04/02/2020</td>\n",
       "      <td>Tuesday</td>\n",
       "      <td>...</td>\n",
       "      <td>0</td>\n",
       "      <td>9</td>\n",
       "      <td>9</td>\n",
       "      <td>1</td>\n",
       "      <td>9</td>\n",
       "      <td>9</td>\n",
       "      <td>0</td>\n",
       "      <td>0</td>\n",
       "      <td>1</td>\n",
       "      <td>False</td>\n",
       "    </tr>\n",
       "    <tr>\n",
       "      <th>1</th>\n",
       "      <td>2020010220496</td>\n",
       "      <td>2020</td>\n",
       "      <td>10220496</td>\n",
       "      <td>-0.139253</td>\n",
       "      <td>51.470327</td>\n",
       "      <td>3</td>\n",
       "      <td>1</td>\n",
       "      <td>2</td>\n",
       "      <td>27/04/2020</td>\n",
       "      <td>Monday</td>\n",
       "      <td>...</td>\n",
       "      <td>0</td>\n",
       "      <td>0</td>\n",
       "      <td>4</td>\n",
       "      <td>1</td>\n",
       "      <td>1</td>\n",
       "      <td>1</td>\n",
       "      <td>0</td>\n",
       "      <td>0</td>\n",
       "      <td>1</td>\n",
       "      <td>False</td>\n",
       "    </tr>\n",
       "    <tr>\n",
       "      <th>2</th>\n",
       "      <td>2020010228005</td>\n",
       "      <td>2020</td>\n",
       "      <td>10228005</td>\n",
       "      <td>-0.178719</td>\n",
       "      <td>51.529614</td>\n",
       "      <td>3</td>\n",
       "      <td>1</td>\n",
       "      <td>1</td>\n",
       "      <td>01/01/2020</td>\n",
       "      <td>Wednesday</td>\n",
       "      <td>...</td>\n",
       "      <td>0</td>\n",
       "      <td>0</td>\n",
       "      <td>0</td>\n",
       "      <td>4</td>\n",
       "      <td>1</td>\n",
       "      <td>2</td>\n",
       "      <td>0</td>\n",
       "      <td>0</td>\n",
       "      <td>1</td>\n",
       "      <td>False</td>\n",
       "    </tr>\n",
       "    <tr>\n",
       "      <th>3</th>\n",
       "      <td>2020010228006</td>\n",
       "      <td>2020</td>\n",
       "      <td>10228006</td>\n",
       "      <td>-0.001683</td>\n",
       "      <td>51.541210</td>\n",
       "      <td>2</td>\n",
       "      <td>1</td>\n",
       "      <td>1</td>\n",
       "      <td>01/01/2020</td>\n",
       "      <td>Wednesday</td>\n",
       "      <td>...</td>\n",
       "      <td>0</td>\n",
       "      <td>0</td>\n",
       "      <td>4</td>\n",
       "      <td>4</td>\n",
       "      <td>1</td>\n",
       "      <td>1</td>\n",
       "      <td>0</td>\n",
       "      <td>0</td>\n",
       "      <td>1</td>\n",
       "      <td>False</td>\n",
       "    </tr>\n",
       "    <tr>\n",
       "      <th>4</th>\n",
       "      <td>2020010228011</td>\n",
       "      <td>2020</td>\n",
       "      <td>10228011</td>\n",
       "      <td>-0.137592</td>\n",
       "      <td>51.515704</td>\n",
       "      <td>3</td>\n",
       "      <td>1</td>\n",
       "      <td>2</td>\n",
       "      <td>01/01/2020</td>\n",
       "      <td>Wednesday</td>\n",
       "      <td>...</td>\n",
       "      <td>0</td>\n",
       "      <td>0</td>\n",
       "      <td>0</td>\n",
       "      <td>4</td>\n",
       "      <td>1</td>\n",
       "      <td>1</td>\n",
       "      <td>0</td>\n",
       "      <td>0</td>\n",
       "      <td>1</td>\n",
       "      <td>False</td>\n",
       "    </tr>\n",
       "  </tbody>\n",
       "</table>\n",
       "<p>5 rows × 28 columns</p>\n",
       "</div>"
      ],
      "text/plain": [
       "  accident_index  accident_year accident_reference  longitude   latitude  \\\n",
       "0  2020010219808           2020           10219808  -0.254001  51.462262   \n",
       "1  2020010220496           2020           10220496  -0.139253  51.470327   \n",
       "2  2020010228005           2020           10228005  -0.178719  51.529614   \n",
       "3  2020010228006           2020           10228006  -0.001683  51.541210   \n",
       "4  2020010228011           2020           10228011  -0.137592  51.515704   \n",
       "\n",
       "   accident_severity  number_of_vehicles  number_of_casualties        date  \\\n",
       "0                  3                   1                     1  04/02/2020   \n",
       "1                  3                   1                     2  27/04/2020   \n",
       "2                  3                   1                     1  01/01/2020   \n",
       "3                  2                   1                     1  01/01/2020   \n",
       "4                  3                   1                     2  01/01/2020   \n",
       "\n",
       "  day_of_week  ... second_road_number  pedestrian_crossing_human_control  \\\n",
       "0     Tuesday  ...                  0                                  9   \n",
       "1      Monday  ...                  0                                  0   \n",
       "2   Wednesday  ...                  0                                  0   \n",
       "3   Wednesday  ...                  0                                  0   \n",
       "4   Wednesday  ...                  0                                  0   \n",
       "\n",
       "   pedestrian_crossing_physical_facilities  light_conditions  \\\n",
       "0                                        9                 1   \n",
       "1                                        4                 1   \n",
       "2                                        0                 4   \n",
       "3                                        4                 4   \n",
       "4                                        0                 4   \n",
       "\n",
       "   weather_conditions  road_surface_conditions  special_conditions_at_site  \\\n",
       "0                   9                        9                           0   \n",
       "1                   1                        1                           0   \n",
       "2                   1                        2                           0   \n",
       "3                   1                        1                           0   \n",
       "4                   1                        1                           0   \n",
       "\n",
       "   carriageway_hazards  urban_or_rural_area  major  \n",
       "0                    0                    1  False  \n",
       "1                    0                    1  False  \n",
       "2                    0                    1  False  \n",
       "3                    0                    1  False  \n",
       "4                    0                    1  False  \n",
       "\n",
       "[5 rows x 28 columns]"
      ]
     },
     "execution_count": 18,
     "metadata": {},
     "output_type": "execute_result"
    }
   ],
   "source": [
    "# Filter data for non-major accidents\n",
    "non_major = accidents[accidents['major']==False]\n",
    "non_major.head()"
   ]
  },
  {
   "cell_type": "code",
   "execution_count": 36,
   "id": "989ea637-4b32-4079-8f7a-c85134930340",
   "metadata": {},
   "outputs": [
    {
     "data": {
      "text/plain": [
       "day_of_week\n",
       "Friday       14091\n",
       "Monday       12158\n",
       "Saturday     11516\n",
       "Sunday        9628\n",
       "Thursday     13411\n",
       "Tuesday      12646\n",
       "Wednesday    12932\n",
       "Name: day_of_week, dtype: int64"
      ]
     },
     "execution_count": 36,
     "metadata": {},
     "output_type": "execute_result"
    }
   ],
   "source": [
    "# count number of non-major accidents by day of week\n",
    "non_major.groupby('day_of_week')['day_of_week'].count()"
   ]
  },
  {
   "cell_type": "code",
   "execution_count": 35,
   "id": "6483b4f4-5481-4f12-ae40-3d981d2dbe04",
   "metadata": {},
   "outputs": [
    {
     "data": {
      "image/png": "[encoded data removed]",
      "text/plain": [
       "<Figure size 720x360 with 1 Axes>"
      ]
     },
     "metadata": {
      "needs_background": "light"
     },
     "output_type": "display_data"
    }
   ],
   "source": [
    "# create count plot of non-major accidents by day of week\n",
    "sns.countplot(x='day_of_week', data=non_major, order=days_of_week)\n",
    "plt.gcf().set_size_inches(10,5)\n",
    "plt.suptitle(' Number of Non-Major Accidents by Day of Week')\n",
    "plt.ylabel('Number of Non-Major Accidents')\n",
    "plt.xlabel('Day of Week')\n",
    "plt.show()"
   ]
  },
  {
   "cell_type": "markdown",
   "id": "66e9979f-00ea-4cbc-b489-9dc4c52a1ed5",
   "metadata": {},
   "source": [
    "The number of non-major accidents shows a similar pattern to major accidents during weekdays in that there's an increase as the weekdays progress. There are 12,158 non-major accidents on Mondays and 14.091 on Fridays. However, unlike major accidents, non-major accidents were noticeably less common on Sundays and Saturdays with Sundays having 9,628 non-major accidents and Saturdays having 11,516."
   ]
  },
  {
   "cell_type": "code",
   "execution_count": null,
   "id": "10788594-5de0-494e-b284-cc515e0e207e",
   "metadata": {},
   "outputs": [],
   "source": []
  },
  {
   "cell_type": "code",
   "execution_count": null,
   "id": "02b18ebc-9a69-4b75-897a-e80aa238eb0c",
   "metadata": {},
   "outputs": [],
   "source": []
  }
 ],
 "metadata": {
  "colab": {
   "name": "Welcome to DataCamp Workspaces.ipynb",
   "provenance": []
  },
  "kernelspec": {
   "display_name": "Python 3 (ipykernel)",
   "language": "python",
   "name": "python3"
  },
  "language_info": {
   "codemirror_mode": {
    "name": "ipython",
    "version": 3
   },
   "file_extension": ".py",
   "mimetype": "text/x-python",
   "name": "python",
   "nbconvert_exporter": "python",
   "pygments_lexer": "ipython3",
   "version": "3.8.10"
  }
 },
 "nbformat": 4,
 "nbformat_minor": 5
}
