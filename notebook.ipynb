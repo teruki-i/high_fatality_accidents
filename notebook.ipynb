{
 "cells": [
  {
   "cell_type": "markdown",
   "id": "prostate-arizona",
   "metadata": {
    "id": "bA5ajAmk7XH6"
   },
   "source": [
    "# Reducing the number of high fatality accidents\n",
    "\n",
    "## 📖 Background\n",
    "You work for the road safety team within the department of transport and are looking into how they can reduce the number of major incidents. The safety team classes major incidents as fatal accidents involving 3+ casualties. They are trying to learn more about the characteristics of these major incidents so they can brainstorm interventions that could lower the number of deaths. They have asked for your assistance with answering a number of questions."
   ]
  },
  {
   "cell_type": "markdown",
   "id": "suspected-substitute",
   "metadata": {
    "id": "TAezigD_8u-1"
   },
   "source": [
    "## 💾 The data\n",
    "The reporting department have been collecting data on every accident that is reported. They've included this along with a lookup file for 2020's accidents.\n",
    "\n",
    "*Published by the department for transport. https://data.gov.uk/dataset/road-accidents-safety-data* \n",
    "*Contains public sector information licensed under the Open Government Licence v3.0.*"
   ]
  },
  {
   "cell_type": "code",
   "execution_count": 1,
   "id": "uniform-isolation",
   "metadata": {},
   "outputs": [
    {
     "data": {
      "application/com.datacamp.data-table.v1+json": {
       "is_truncated": false,
       "table": {
        "data": [
         {
          "accident_index": "2020010219808",
          "accident_reference": "10219808",
          "accident_severity": 3,
          "accident_year": 2020,
          "carriageway_hazards": 0,
          "date": "04/02/2020",
          "day_of_week": 3,
          "first_road_class": 6,
          "first_road_number": 0,
          "index": 0,
          "junction_control": -1,
          "junction_detail": 0,
          "latitude": 51.462262,
          "light_conditions": 1,
          "longitude": -0.254001,
          "number_of_casualties": 1,
          "number_of_vehicles": 1,
          "pedestrian_crossing_human_control": 9,
          "pedestrian_crossing_physical_facilities": 9,
          "road_surface_conditions": 9,
          "road_type": 6,
          "second_road_class": 6,
          "second_road_number": 0,
          "special_conditions_at_site": 0,
          "speed_limit": 20,
          "time": "09:00",
          "urban_or_rural_area": 1,
          "weather_conditions": 9
         },
         {
          "accident_index": "2020010220496",
          "accident_reference": "10220496",
          "accident_severity": 3,
          "accident_year": 2020,
          "carriageway_hazards": 0,
          "date": "27/04/2020",
          "day_of_week": 2,
          "first_road_class": 3,
          "first_road_number": 3036,
          "index": 1,
          "junction_control": 2,
          "junction_detail": 9,
          "latitude": 51.470327,
          "light_conditions": 1,
          "longitude": -0.139253,
          "number_of_casualties": 2,
          "number_of_vehicles": 1,
          "pedestrian_crossing_human_control": 0,
          "pedestrian_crossing_physical_facilities": 4,
          "road_surface_conditions": 1,
          "road_type": 6,
          "second_road_class": 6,
          "second_road_number": 0,
          "special_conditions_at_site": 0,
          "speed_limit": 20,
          "time": "13:55",
          "urban_or_rural_area": 1,
          "weather_conditions": 1
         },
         {
          "accident_index": "2020010228005",
          "accident_reference": "10228005",
          "accident_severity": 3,
          "accident_year": 2020,
          "carriageway_hazards": 0,
          "date": "01/01/2020",
          "day_of_week": 4,
          "first_road_class": 5,
          "first_road_number": 0,
          "index": 2,
          "junction_control": 1,
          "junction_detail": 3,
          "latitude": 51.529614,
          "light_conditions": 4,
          "longitude": -0.178719,
          "number_of_casualties": 1,
          "number_of_vehicles": 1,
          "pedestrian_crossing_human_control": 0,
          "pedestrian_crossing_physical_facilities": 0,
          "road_surface_conditions": 2,
          "road_type": 6,
          "second_road_class": 6,
          "second_road_number": 0,
          "special_conditions_at_site": 0,
          "speed_limit": 30,
          "time": "01:25",
          "urban_or_rural_area": 1,
          "weather_conditions": 1
         },
         {
          "accident_index": "2020010228006",
          "accident_reference": "10228006",
          "accident_severity": 2,
          "accident_year": 2020,
          "carriageway_hazards": 0,
          "date": "01/01/2020",
          "day_of_week": 4,
          "first_road_class": 3,
          "first_road_number": 11,
          "index": 3,
          "junction_control": -1,
          "junction_detail": 0,
          "latitude": 51.54121,
          "light_conditions": 4,
          "longitude": -0.001683,
          "number_of_casualties": 1,
          "number_of_vehicles": 1,
          "pedestrian_crossing_human_control": 0,
          "pedestrian_crossing_physical_facilities": 4,
          "road_surface_conditions": 1,
          "road_type": 6,
          "second_road_class": 6,
          "second_road_number": 0,
          "special_conditions_at_site": 0,
          "speed_limit": 30,
          "time": "01:50",
          "urban_or_rural_area": 1,
          "weather_conditions": 1
         },
         {
          "accident_index": "2020010228011",
          "accident_reference": "10228011",
          "accident_severity": 3,
          "accident_year": 2020,
          "carriageway_hazards": 0,
          "date": "01/01/2020",
          "day_of_week": 4,
          "first_road_class": 3,
          "first_road_number": 40,
          "index": 4,
          "junction_control": 4,
          "junction_detail": 3,
          "latitude": 51.515704,
          "light_conditions": 4,
          "longitude": -0.137592,
          "number_of_casualties": 2,
          "number_of_vehicles": 1,
          "pedestrian_crossing_human_control": 0,
          "pedestrian_crossing_physical_facilities": 0,
          "road_surface_conditions": 1,
          "road_type": 6,
          "second_road_class": 5,
          "second_road_number": 0,
          "special_conditions_at_site": 0,
          "speed_limit": 30,
          "time": "02:25",
          "urban_or_rural_area": 1,
          "weather_conditions": 1
         }
        ],
        "schema": {
         "fields": [
          {
           "name": "index",
           "type": "integer"
          },
          {
           "name": "accident_index",
           "type": "string"
          },
          {
           "name": "accident_year",
           "type": "integer"
          },
          {
           "name": "accident_reference",
           "type": "string"
          },
          {
           "name": "longitude",
           "type": "number"
          },
          {
           "name": "latitude",
           "type": "number"
          },
          {
           "name": "accident_severity",
           "type": "integer"
          },
          {
           "name": "number_of_vehicles",
           "type": "integer"
          },
          {
           "name": "number_of_casualties",
           "type": "integer"
          },
          {
           "name": "date",
           "type": "string"
          },
          {
           "name": "day_of_week",
           "type": "integer"
          },
          {
           "name": "time",
           "type": "string"
          },
          {
           "name": "first_road_class",
           "type": "integer"
          },
          {
           "name": "first_road_number",
           "type": "integer"
          },
          {
           "name": "road_type",
           "type": "integer"
          },
          {
           "name": "speed_limit",
           "type": "integer"
          },
          {
           "name": "junction_detail",
           "type": "integer"
          },
          {
           "name": "junction_control",
           "type": "integer"
          },
          {
           "name": "second_road_class",
           "type": "integer"
          },
          {
           "name": "second_road_number",
           "type": "integer"
          },
          {
           "name": "pedestrian_crossing_human_control",
           "type": "integer"
          },
          {
           "name": "pedestrian_crossing_physical_facilities",
           "type": "integer"
          },
          {
           "name": "light_conditions",
           "type": "integer"
          },
          {
           "name": "weather_conditions",
           "type": "integer"
          },
          {
           "name": "road_surface_conditions",
           "type": "integer"
          },
          {
           "name": "special_conditions_at_site",
           "type": "integer"
          },
          {
           "name": "carriageway_hazards",
           "type": "integer"
          },
          {
           "name": "urban_or_rural_area",
           "type": "integer"
          }
         ],
         "pandas_version": "0.20.0",
         "primaryKey": [
          "index"
         ]
        }
       },
       "total_rows": 5
      },
      "text/html": [
       "<div>\n",
       "<style scoped>\n",
       "    .dataframe tbody tr th:only-of-type {\n",
       "        vertical-align: middle;\n",
       "    }\n",
       "\n",
       "    .dataframe tbody tr th {\n",
       "        vertical-align: top;\n",
       "    }\n",
       "\n",
       "    .dataframe thead th {\n",
       "        text-align: right;\n",
       "    }\n",
       "</style>\n",
       "<table border=\"1\" class=\"dataframe\">\n",
       "  <thead>\n",
       "    <tr style=\"text-align: right;\">\n",
       "      <th></th>\n",
       "      <th>accident_index</th>\n",
       "      <th>accident_year</th>\n",
       "      <th>accident_reference</th>\n",
       "      <th>longitude</th>\n",
       "      <th>latitude</th>\n",
       "      <th>accident_severity</th>\n",
       "      <th>number_of_vehicles</th>\n",
       "      <th>number_of_casualties</th>\n",
       "      <th>date</th>\n",
       "      <th>day_of_week</th>\n",
       "      <th>...</th>\n",
       "      <th>second_road_class</th>\n",
       "      <th>second_road_number</th>\n",
       "      <th>pedestrian_crossing_human_control</th>\n",
       "      <th>pedestrian_crossing_physical_facilities</th>\n",
       "      <th>light_conditions</th>\n",
       "      <th>weather_conditions</th>\n",
       "      <th>road_surface_conditions</th>\n",
       "      <th>special_conditions_at_site</th>\n",
       "      <th>carriageway_hazards</th>\n",
       "      <th>urban_or_rural_area</th>\n",
       "    </tr>\n",
       "  </thead>\n",
       "  <tbody>\n",
       "    <tr>\n",
       "      <th>0</th>\n",
       "      <td>2020010219808</td>\n",
       "      <td>2020</td>\n",
       "      <td>10219808</td>\n",
       "      <td>-0.254001</td>\n",
       "      <td>51.462262</td>\n",
       "      <td>3</td>\n",
       "      <td>1</td>\n",
       "      <td>1</td>\n",
       "      <td>04/02/2020</td>\n",
       "      <td>3</td>\n",
       "      <td>...</td>\n",
       "      <td>6</td>\n",
       "      <td>0</td>\n",
       "      <td>9</td>\n",
       "      <td>9</td>\n",
       "      <td>1</td>\n",
       "      <td>9</td>\n",
       "      <td>9</td>\n",
       "      <td>0</td>\n",
       "      <td>0</td>\n",
       "      <td>1</td>\n",
       "    </tr>\n",
       "    <tr>\n",
       "      <th>1</th>\n",
       "      <td>2020010220496</td>\n",
       "      <td>2020</td>\n",
       "      <td>10220496</td>\n",
       "      <td>-0.139253</td>\n",
       "      <td>51.470327</td>\n",
       "      <td>3</td>\n",
       "      <td>1</td>\n",
       "      <td>2</td>\n",
       "      <td>27/04/2020</td>\n",
       "      <td>2</td>\n",
       "      <td>...</td>\n",
       "      <td>6</td>\n",
       "      <td>0</td>\n",
       "      <td>0</td>\n",
       "      <td>4</td>\n",
       "      <td>1</td>\n",
       "      <td>1</td>\n",
       "      <td>1</td>\n",
       "      <td>0</td>\n",
       "      <td>0</td>\n",
       "      <td>1</td>\n",
       "    </tr>\n",
       "    <tr>\n",
       "      <th>2</th>\n",
       "      <td>2020010228005</td>\n",
       "      <td>2020</td>\n",
       "      <td>10228005</td>\n",
       "      <td>-0.178719</td>\n",
       "      <td>51.529614</td>\n",
       "      <td>3</td>\n",
       "      <td>1</td>\n",
       "      <td>1</td>\n",
       "      <td>01/01/2020</td>\n",
       "      <td>4</td>\n",
       "      <td>...</td>\n",
       "      <td>6</td>\n",
       "      <td>0</td>\n",
       "      <td>0</td>\n",
       "      <td>0</td>\n",
       "      <td>4</td>\n",
       "      <td>1</td>\n",
       "      <td>2</td>\n",
       "      <td>0</td>\n",
       "      <td>0</td>\n",
       "      <td>1</td>\n",
       "    </tr>\n",
       "    <tr>\n",
       "      <th>3</th>\n",
       "      <td>2020010228006</td>\n",
       "      <td>2020</td>\n",
       "      <td>10228006</td>\n",
       "      <td>-0.001683</td>\n",
       "      <td>51.541210</td>\n",
       "      <td>2</td>\n",
       "      <td>1</td>\n",
       "      <td>1</td>\n",
       "      <td>01/01/2020</td>\n",
       "      <td>4</td>\n",
       "      <td>...</td>\n",
       "      <td>6</td>\n",
       "      <td>0</td>\n",
       "      <td>0</td>\n",
       "      <td>4</td>\n",
       "      <td>4</td>\n",
       "      <td>1</td>\n",
       "      <td>1</td>\n",
       "      <td>0</td>\n",
       "      <td>0</td>\n",
       "      <td>1</td>\n",
       "    </tr>\n",
       "    <tr>\n",
       "      <th>4</th>\n",
       "      <td>2020010228011</td>\n",
       "      <td>2020</td>\n",
       "      <td>10228011</td>\n",
       "      <td>-0.137592</td>\n",
       "      <td>51.515704</td>\n",
       "      <td>3</td>\n",
       "      <td>1</td>\n",
       "      <td>2</td>\n",
       "      <td>01/01/2020</td>\n",
       "      <td>4</td>\n",
       "      <td>...</td>\n",
       "      <td>5</td>\n",
       "      <td>0</td>\n",
       "      <td>0</td>\n",
       "      <td>0</td>\n",
       "      <td>4</td>\n",
       "      <td>1</td>\n",
       "      <td>1</td>\n",
       "      <td>0</td>\n",
       "      <td>0</td>\n",
       "      <td>1</td>\n",
       "    </tr>\n",
       "  </tbody>\n",
       "</table>\n",
       "<p>5 rows × 27 columns</p>\n",
       "</div>"
      ],
      "text/plain": [
       "  accident_index  accident_year accident_reference  longitude   latitude  \\\n",
       "0  2020010219808           2020           10219808  -0.254001  51.462262   \n",
       "1  2020010220496           2020           10220496  -0.139253  51.470327   \n",
       "2  2020010228005           2020           10228005  -0.178719  51.529614   \n",
       "3  2020010228006           2020           10228006  -0.001683  51.541210   \n",
       "4  2020010228011           2020           10228011  -0.137592  51.515704   \n",
       "\n",
       "   accident_severity  number_of_vehicles  number_of_casualties        date  \\\n",
       "0                  3                   1                     1  04/02/2020   \n",
       "1                  3                   1                     2  27/04/2020   \n",
       "2                  3                   1                     1  01/01/2020   \n",
       "3                  2                   1                     1  01/01/2020   \n",
       "4                  3                   1                     2  01/01/2020   \n",
       "\n",
       "   day_of_week  ... second_road_class  second_road_number  \\\n",
       "0            3  ...                 6                   0   \n",
       "1            2  ...                 6                   0   \n",
       "2            4  ...                 6                   0   \n",
       "3            4  ...                 6                   0   \n",
       "4            4  ...                 5                   0   \n",
       "\n",
       "   pedestrian_crossing_human_control  pedestrian_crossing_physical_facilities  \\\n",
       "0                                  9                                        9   \n",
       "1                                  0                                        4   \n",
       "2                                  0                                        0   \n",
       "3                                  0                                        4   \n",
       "4                                  0                                        0   \n",
       "\n",
       "   light_conditions  weather_conditions  road_surface_conditions  \\\n",
       "0                 1                   9                        9   \n",
       "1                 1                   1                        1   \n",
       "2                 4                   1                        2   \n",
       "3                 4                   1                        1   \n",
       "4                 4                   1                        1   \n",
       "\n",
       "   special_conditions_at_site  carriageway_hazards  urban_or_rural_area  \n",
       "0                           0                    0                    1  \n",
       "1                           0                    0                    1  \n",
       "2                           0                    0                    1  \n",
       "3                           0                    0                    1  \n",
       "4                           0                    0                    1  \n",
       "\n",
       "[5 rows x 27 columns]"
      ]
     },
     "execution_count": 1,
     "metadata": {},
     "output_type": "execute_result"
    }
   ],
   "source": [
    "import pandas as pd\n",
    "accidents = pd.read_csv(r'./data/accident-data.csv')\n",
    "accidents.head()"
   ]
  },
  {
   "cell_type": "code",
   "execution_count": 2,
   "id": "40fd7dcb-b77b-4c4d-8f06-1365225e7496",
   "metadata": {},
   "outputs": [
    {
     "data": {
      "application/com.datacamp.data-table.v1+json": {
       "is_truncated": false,
       "table": {
        "data": [
         {
          "code/format": null,
          "field name": "accident_index",
          "index": 0,
          "label": null,
          "note": "unique value for each accident. The accident_index combines the accident_year and accident_ref_no to form a unique ID. It can be used to join to Vehicle and Casualty",
          "table": "Accident"
         },
         {
          "code/format": null,
          "field name": "accident_year",
          "index": 1,
          "label": null,
          "note": null,
          "table": "Accident"
         },
         {
          "code/format": null,
          "field name": "accident_reference",
          "index": 2,
          "label": null,
          "note": "In year id used by the police to reference a collision. It is not unique outside of the year, use accident_index for linking to other years",
          "table": "Accident"
         },
         {
          "code/format": null,
          "field name": "longitude",
          "index": 3,
          "label": null,
          "note": "Null if not known",
          "table": "Accident"
         },
         {
          "code/format": null,
          "field name": "Latitude",
          "index": 4,
          "label": null,
          "note": "Null if not known",
          "table": "Accident"
         }
        ],
        "schema": {
         "fields": [
          {
           "name": "index",
           "type": "integer"
          },
          {
           "name": "table",
           "type": "string"
          },
          {
           "name": "field name",
           "type": "string"
          },
          {
           "name": "code/format",
           "type": "string"
          },
          {
           "name": "label",
           "type": "string"
          },
          {
           "name": "note",
           "type": "string"
          }
         ],
         "pandas_version": "0.20.0",
         "primaryKey": [
          "index"
         ]
        }
       },
       "total_rows": 5
      },
      "text/html": [
       "<div>\n",
       "<style scoped>\n",
       "    .dataframe tbody tr th:only-of-type {\n",
       "        vertical-align: middle;\n",
       "    }\n",
       "\n",
       "    .dataframe tbody tr th {\n",
       "        vertical-align: top;\n",
       "    }\n",
       "\n",
       "    .dataframe thead th {\n",
       "        text-align: right;\n",
       "    }\n",
       "</style>\n",
       "<table border=\"1\" class=\"dataframe\">\n",
       "  <thead>\n",
       "    <tr style=\"text-align: right;\">\n",
       "      <th></th>\n",
       "      <th>table</th>\n",
       "      <th>field name</th>\n",
       "      <th>code/format</th>\n",
       "      <th>label</th>\n",
       "      <th>note</th>\n",
       "    </tr>\n",
       "  </thead>\n",
       "  <tbody>\n",
       "    <tr>\n",
       "      <th>0</th>\n",
       "      <td>Accident</td>\n",
       "      <td>accident_index</td>\n",
       "      <td>NaN</td>\n",
       "      <td>NaN</td>\n",
       "      <td>unique value for each accident. The accident_i...</td>\n",
       "    </tr>\n",
       "    <tr>\n",
       "      <th>1</th>\n",
       "      <td>Accident</td>\n",
       "      <td>accident_year</td>\n",
       "      <td>NaN</td>\n",
       "      <td>NaN</td>\n",
       "      <td>NaN</td>\n",
       "    </tr>\n",
       "    <tr>\n",
       "      <th>2</th>\n",
       "      <td>Accident</td>\n",
       "      <td>accident_reference</td>\n",
       "      <td>NaN</td>\n",
       "      <td>NaN</td>\n",
       "      <td>In year id used by the police to reference a c...</td>\n",
       "    </tr>\n",
       "    <tr>\n",
       "      <th>3</th>\n",
       "      <td>Accident</td>\n",
       "      <td>longitude</td>\n",
       "      <td>NaN</td>\n",
       "      <td>NaN</td>\n",
       "      <td>Null if not known</td>\n",
       "    </tr>\n",
       "    <tr>\n",
       "      <th>4</th>\n",
       "      <td>Accident</td>\n",
       "      <td>Latitude</td>\n",
       "      <td>NaN</td>\n",
       "      <td>NaN</td>\n",
       "      <td>Null if not known</td>\n",
       "    </tr>\n",
       "  </tbody>\n",
       "</table>\n",
       "</div>"
      ],
      "text/plain": [
       "      table          field name code/format label  \\\n",
       "0  Accident      accident_index         NaN   NaN   \n",
       "1  Accident       accident_year         NaN   NaN   \n",
       "2  Accident  accident_reference         NaN   NaN   \n",
       "3  Accident           longitude         NaN   NaN   \n",
       "4  Accident            Latitude         NaN   NaN   \n",
       "\n",
       "                                                note  \n",
       "0  unique value for each accident. The accident_i...  \n",
       "1                                                NaN  \n",
       "2  In year id used by the police to reference a c...  \n",
       "3                                  Null if not known  \n",
       "4                                  Null if not known  "
      ]
     },
     "execution_count": 2,
     "metadata": {},
     "output_type": "execute_result"
    }
   ],
   "source": [
    "lookup = pd.read_csv(r'./data/road-safety-lookups.csv')\n",
    "lookup.head()"
   ]
  },
  {
   "cell_type": "markdown",
   "id": "recent-boards",
   "metadata": {
    "id": "Rm2MvBfC9mYK",
    "tags": []
   },
   "source": [
    "## 💪 Competition challenge\n",
    "\n",
    "Create a report that covers the following:\n",
    "\n",
    "1. What time of day and day of the week do most major incidents happen?\n",
    "2. Are there any patterns in the time of day/ day of the week when major incidents occur?\n",
    "3. What characteristics stand out in major incidents compared with other accidents?\n",
    "4. On what areas would you recommend the planning team focus their brainstorming efforts to reduce major incidents?"
   ]
  },
  {
   "cell_type": "markdown",
   "id": "young-evaluation",
   "metadata": {
    "id": "6zXWKexuHxE9"
   },
   "source": [
    "## 🧑‍⚖️ Judging criteria\n",
    "\n",
    "| CATEGORY | WEIGHTING | DETAILS                                                              |\n",
    "|:---------|:----------|:---------------------------------------------------------------------|\n",
    "| **Recommendations** | 35%       | <ul><li>Clarity of recommendations - how clear and well presented the recommendation is.</li><li>Quality of recommendations - are appropriate analytical techniques used & are the conclusions valid?</li><li>Number of relevant insights found for the target audience.</li></ul>       |\n",
    "| **Storytelling**  | 30%       | <ul><li>How well the data and insights are connected to the recommendation.</li><li>How the narrative and whole report connects together.</li><li>Balancing making the report in depth enough but also concise.</li></ul> |\n",
    "| **Visualizations** | 25% | <ul><li>Appropriateness of visualization used.</li><li>Clarity of insight from visualization.</li></ul> |\n",
    "| **Votes** | 10% | <ul><li>Up voting - most upvoted entries get the most points.</li></ul> |"
   ]
  },
  {
   "cell_type": "markdown",
   "id": "f0e743f6-4df4-4311-b0d6-7bfafbee8d89",
   "metadata": {},
   "source": [
    "## ✅ Checklist before publishing into the competition\n",
    "- Rename your workspace to make it descriptive of your work. N.B. you should leave the notebook name as notebook.ipynb.\n",
    "- Remove redundant cells like the judging criteria so the workbook is focused on your story.\n",
    "- Make sure the workbook reads well and explains how you found your insights.\n",
    "- Check that all the cells run without error."
   ]
  },
  {
   "cell_type": "markdown",
   "id": "7f9c91e6-a1ca-4ae9-84c8-4ba4ee3598c9",
   "metadata": {},
   "source": [
    "## Preprocessing Data"
   ]
  },
  {
   "cell_type": "code",
   "execution_count": 3,
   "id": "eac0c574-1731-4403-86d7-2533d70a20c2",
   "metadata": {},
   "outputs": [],
   "source": [
    "# replace numbers in 'day_of_week' column with text\n",
    "days_of_week=['Sunday','Monday','Tuesday','Wednesday','Thursday','Friday','Saturday']\n",
    "accidents['day_of_week']=accidents['day_of_week'].replace(\n",
    "                                    to_replace=[1,2,3,4,5,6,7],\n",
    "                                    value=days_of_week\n",
    ")"
   ]
  },
  {
   "cell_type": "code",
   "execution_count": 4,
   "id": "27d345f1-7c02-4fde-8f60-1fe69c86225f",
   "metadata": {},
   "outputs": [],
   "source": [
    "# convert 'time' and 'hour' columns to accidents data\n",
    "accidents['time'] = pd.to_datetime(accidents['time'])\n",
    "accidents['hour'] = pd.DatetimeIndex(accidents['time']).hour"
   ]
  },
  {
   "cell_type": "code",
   "execution_count": 5,
   "id": "dc5b672c-2a75-41b9-bc43-9b903f51305f",
   "metadata": {},
   "outputs": [],
   "source": [
    "# create column for months\n",
    "accidents['date'] = pd.to_datetime(accidents['date'])\n",
    "accidents['month'] = accidents['date'].dt.month"
   ]
  },
  {
   "cell_type": "code",
   "execution_count": 6,
   "id": "ec34bc19-c0ab-4695-a2f4-f052509039f1",
   "metadata": {},
   "outputs": [],
   "source": [
    "# look up keys for urban or rural areas\n",
    "urban_rural=lookup[lookup['field name']=='urban_or_rural_area']"
   ]
  },
  {
   "cell_type": "code",
   "execution_count": 7,
   "id": "31e657ce-4cfa-4f5a-a7c8-0d35ab6a1aa7",
   "metadata": {},
   "outputs": [],
   "source": [
    "# convert 'code/format' column of 'urban_rural' to integer\n",
    "urban_rural['code/format'] = urban_rural['code/format'].astype('int')"
   ]
  },
  {
   "cell_type": "code",
   "execution_count": 8,
   "id": "94ff4af3-721f-4f19-aeaf-dc1e28954852",
   "metadata": {},
   "outputs": [],
   "source": [
    "# replace codes in \"urban_or_rural_area column of accidents to descriptive text\n",
    "codes = list(urban_rural['code/format'])\n",
    "urban_or_rural = list(urban_rural['label'])\n",
    "\n",
    "accidents['urban_or_rural_area'] = accidents['urban_or_rural_area'].replace(\n",
    "                                                                to_replace = codes,\n",
    "                                                                value = urban_or_rural\n",
    "                                                                )"
   ]
  },
  {
   "cell_type": "markdown",
   "id": "de13e3d1-94d2-45bd-b3f7-71c81ad955e7",
   "metadata": {
    "tags": []
   },
   "source": [
    "## Examining major accidents by days of week"
   ]
  },
  {
   "cell_type": "code",
   "execution_count": 9,
   "id": "dbd28fc5-b347-4288-b29c-c4438eb7cd7f",
   "metadata": {},
   "outputs": [],
   "source": [
    "# add column identifying if accident is major\n",
    "accidents['major'] = (accidents['number_of_casualties']>=3)"
   ]
  },
  {
   "cell_type": "code",
   "execution_count": 10,
   "id": "7d087387-2124-4720-9f21-c79d6c350fba",
   "metadata": {},
   "outputs": [],
   "source": [
    "# filter data for major accidents\n",
    "major_accidents = accidents[accidents['major']==True]"
   ]
  },
  {
   "cell_type": "code",
   "execution_count": 11,
   "id": "732d453b-958f-4626-b198-93bf52d70b65",
   "metadata": {},
   "outputs": [
    {
     "data": {
      "text/plain": [
       "day_of_week\n",
       "Friday       798\n",
       "Monday       614\n",
       "Saturday     820\n",
       "Sunday       687\n",
       "Thursday     645\n",
       "Tuesday      621\n",
       "Wednesday    632\n",
       "Name: major, dtype: int64"
      ]
     },
     "execution_count": 11,
     "metadata": {},
     "output_type": "execute_result"
    }
   ],
   "source": [
    "# count major accidents by day of week\n",
    "major_accidents.groupby('day_of_week')['major'].sum()"
   ]
  },
  {
   "cell_type": "code",
   "execution_count": 12,
   "id": "8a0621e0-1461-47c3-a6f9-4e73a99a249c",
   "metadata": {},
   "outputs": [
    {
     "data": {
      "image/png": "[encoded data removed]",
      "text/plain": [
       "<Figure size 720x360 with 1 Axes>"
      ]
     },
     "metadata": {
      "needs_background": "light"
     },
     "output_type": "display_data"
    }
   ],
   "source": [
    "# import dependencies for visualization\n",
    "import matplotlib.pyplot as plt\n",
    "import seaborn as sns\n",
    "\n",
    "# plot major accidents by day of week\n",
    "sns.countplot(x='day_of_week', data=major_accidents, order=days_of_week)\n",
    "plt.gcf().set_size_inches(10,5)\n",
    "plt.suptitle(' Number of Major Accidents by Day of Week')\n",
    "plt.ylabel('Number of Major Accidents')\n",
    "plt.xlabel('Day of Week')\n",
    "plt.show()"
   ]
  },
  {
   "cell_type": "markdown",
   "id": "7d5106e5-d2cc-4392-bfda-5e6ed43bde50",
   "metadata": {},
   "source": [
    "Major accidents seem to happen most on Fridays and Saturdays. In our data, 798 major accidents happened on Fridays and 820 happened on Saturdays. Sundays seemed to also have more accidents than most weekdays with 687 major accidents in the data set.\n",
    "\n",
    "There seems to be a pattern with accidents increasing gradually over week days. Mondays had 614 major accidents and this gradually increased to 645 major accidents on Thursdays. This then sharply increased to 798 major accidents, as pointed out above, on Fridays. "
   ]
  },
  {
   "cell_type": "code",
   "execution_count": 13,
   "id": "25ec0eb9-69d6-4b30-949d-e1ff93b472b3",
   "metadata": {},
   "outputs": [
    {
     "data": {
      "image/png": "[encoded data removed]",
      "text/plain": [
       "<Figure size 720x360 with 1 Axes>"
      ]
     },
     "metadata": {
      "needs_background": "light"
     },
     "output_type": "display_data"
    }
   ],
   "source": [
    "# plot accidents by day of week\n",
    "sns.countplot(x='day_of_week', data=accidents, order=days_of_week)\n",
    "plt.gcf().set_size_inches(10,5)\n",
    "plt.suptitle(' Number of Accidents by Day of Week')\n",
    "plt.ylabel('Number of Accidents')\n",
    "plt.xlabel('Day of Week')\n",
    "plt.show()"
   ]
  },
  {
   "cell_type": "markdown",
   "id": "34a68e07-b317-4a11-9c8d-2330fbf51980",
   "metadata": {},
   "source": [
    "Looking at the overall data though, accidents tend to trend upward through the weekdays, but are less prevalent during weekends. This suggests that in order to address major accidents, it would be more focus on the weekends and Fridays more than the rest of the week."
   ]
  },
  {
   "cell_type": "markdown",
   "id": "652a3443-b41d-46fb-bbe8-1e0903a48005",
   "metadata": {
    "tags": []
   },
   "source": [
    "## What time of day do major accidents happen the most?\n",
    "\n",
    "Do major accidents tend to happen more during specific times of the day? How about accidents overall? Do they differ in pattern?"
   ]
  },
  {
   "cell_type": "code",
   "execution_count": 14,
   "id": "2d192608-61c9-49f6-89ab-ef79bd70b606",
   "metadata": {},
   "outputs": [
    {
     "data": {
      "text/plain": [
       "hour\n",
       "0      94\n",
       "1      73\n",
       "2      54\n",
       "3      48\n",
       "4      33\n",
       "5      41\n",
       "6      65\n",
       "7     110\n",
       "8     197\n",
       "9     149\n",
       "10    211\n",
       "11    242\n",
       "12    272\n",
       "13    312\n",
       "14    372\n",
       "15    401\n",
       "16    433\n",
       "17    374\n",
       "18    341\n",
       "19    286\n",
       "20    232\n",
       "21    159\n",
       "22    181\n",
       "23    137\n",
       "Name: hour, dtype: int64"
      ]
     },
     "execution_count": 14,
     "metadata": {},
     "output_type": "execute_result"
    }
   ],
   "source": [
    "# count major accidents by hour of day\n",
    "major_accidents.groupby('hour')['hour'].count()"
   ]
  },
  {
   "cell_type": "code",
   "execution_count": 15,
   "id": "94de43b2-d82f-45d3-b8b5-60998ed575e1",
   "metadata": {},
   "outputs": [
    {
     "data": {
      "image/png": "[encoded data removed]",
      "text/plain": [
       "<Figure size 432x288 with 1 Axes>"
      ]
     },
     "metadata": {
      "needs_background": "light"
     },
     "output_type": "display_data"
    }
   ],
   "source": [
    "# plot major accidents by time of day\n",
    "sns.countplot(x='hour', data=major_accidents)\n",
    "plt.ylabel('Number of Major Accidents')\n",
    "plt.xlabel('Hour of Day')\n",
    "plt.suptitle('Major Accidents by Hour of Day')\n",
    "plt.show()"
   ]
  },
  {
   "cell_type": "markdown",
   "id": "ecd33d3b-36c7-4f47-a4af-2c19003b5a7e",
   "metadata": {},
   "source": [
    "Major accidents seemed to peak during the late afternoon/early evening hours. In this data set, the hour between 4PM and 5PM has the most major accidents at 433. In fact, the number of major accidents increases every hour--except for the hour between 8AM and 9AM--from the early morning hour between 4AM and 5AM at 33 major accidents until the peak between 4PM and 5PM. From 5PM there's a noticeable decrease every hour--except for the hour between 9PM and 10PM--until the low point between 4AM and 5AM."
   ]
  },
  {
   "cell_type": "code",
   "execution_count": 16,
   "id": "02b18ebc-9a69-4b75-897a-e80aa238eb0c",
   "metadata": {},
   "outputs": [
    {
     "data": {
      "image/png": "[encoded data removed]",
      "text/plain": [
       "<Figure size 432x288 with 1 Axes>"
      ]
     },
     "metadata": {
      "needs_background": "light"
     },
     "output_type": "display_data"
    }
   ],
   "source": [
    "# plot non-major accidents by time of day\n",
    "sns.countplot(x='hour', data=accidents)\n",
    "plt.ylabel('Number of Accidents')\n",
    "plt.xlabel('Hour of Day')\n",
    "plt.suptitle('Accidents by Hour of Day')\n",
    "plt.show()"
   ]
  },
  {
   "cell_type": "markdown",
   "id": "feb586d9-6f4b-4f76-85a3-af3a5cc1b6b4",
   "metadata": {},
   "source": [
    "With the overall data, accidents follow a similar pattern throughout the day as major accidents. Accidents happen the least often in the early morning hours, then increase until they peak in the late afternoon/early evening hours. In other words, there's no unique pattern by time of day for major accidents.\n",
    "\n",
    "This suggests that by focusing general accident prevention measures throughout the daytime hours could prevent major accidents."
   ]
  },
  {
   "cell_type": "markdown",
   "id": "0db0c4c8-2d2d-4787-8591-028b697e67a9",
   "metadata": {},
   "source": [
    "## Do the number of cars matter?\n"
   ]
  },
  {
   "cell_type": "code",
   "execution_count": 17,
   "id": "71310e18-4484-4ddc-9827-abdae3b6439d",
   "metadata": {},
   "outputs": [
    {
     "name": "stdout",
     "output_type": "stream",
     "text": [
      "number_of_vehicles\n",
      "1     11.96\n",
      "2     61.35\n",
      "3     18.79\n",
      "4      5.58\n",
      "5      1.31\n",
      "6      0.71\n",
      "7      0.04\n",
      "8      0.17\n",
      "9      0.04\n",
      "10     0.04\n",
      "11     0.02\n",
      "Name: number_of_vehicles, dtype: float64\n"
     ]
    }
   ],
   "source": [
    "# calculate percentage of major accidents by number of vehicles involved\n",
    "major_vehicles=major_accidents.groupby(['number_of_vehicles'])['number_of_vehicles'].count()/len(major_accidents)*100\n",
    "print(round(major_vehicles,2))"
   ]
  },
  {
   "cell_type": "code",
   "execution_count": 19,
   "id": "3eab3964-a1dc-472c-8bb9-20f019f2c213",
   "metadata": {},
   "outputs": [
    {
     "name": "stdout",
     "output_type": "stream",
     "text": [
      "number_of_vehicles\n",
      "1     28.21\n",
      "2     62.93\n",
      "3      6.84\n",
      "4      1.46\n",
      "5      0.36\n",
      "6      0.11\n",
      "7      0.05\n",
      "8      0.02\n",
      "9      0.00\n",
      "10     0.00\n",
      "11     0.00\n",
      "12     0.00\n",
      "13     0.00\n",
      "Name: number_of_vehicles, dtype: float64\n"
     ]
    }
   ],
   "source": [
    "# calculate percentage of accidents by number of vehicles involved\n",
    "accidents_vehicles=accidents.groupby(['number_of_vehicles'])['number_of_vehicles'].count()/len(accidents)*100\n",
    "print(round(accidents_vehicles,2))"
   ]
  },
  {
   "cell_type": "code",
   "execution_count": 20,
   "id": "2d8fb698-42f9-436e-bdcb-47929abfac11",
   "metadata": {},
   "outputs": [
    {
     "name": "stdout",
     "output_type": "stream",
     "text": [
      "Percentage of major accidents that involve at least three vehicles: 26.7%\n"
     ]
    }
   ],
   "source": [
    "# Calculate percentage of major accidents that involved at least three vehicles\n",
    "major_three_or_more = major_accidents[major_accidents['number_of_vehicles']>2]['accident_index'].count()\n",
    "major_three_or_more_perc = major_three_or_more/len(major_accidents)*100\n",
    "print(f'Percentage of major accidents that involve at least three vehicles: {round(major_three_or_more_perc,2)}%')"
   ]
  },
  {
   "cell_type": "code",
   "execution_count": 21,
   "id": "aa47b1f9-97bd-49a7-918b-b881c95d8100",
   "metadata": {},
   "outputs": [
    {
     "name": "stdout",
     "output_type": "stream",
     "text": [
      "Percentage of non-major accidents that involve at least three vehicles: 8.86%\n"
     ]
    }
   ],
   "source": [
    "# calculate percentage of non-major accidents by number of vehicles involved\n",
    "accidents_three_or_more = accidents[accidents['number_of_vehicles']>2]['accident_index'].count()\n",
    "accidents_three_or_more_perc = accidents_three_or_more/len(accidents)*100\n",
    "print(f'Percentage of non-major accidents that involve at least three vehicles: {round(accidents_three_or_more_perc,2)}%')"
   ]
  },
  {
   "cell_type": "code",
   "execution_count": 31,
   "id": "012acc7a-b22e-41ff-857f-e001b498835d",
   "metadata": {},
   "outputs": [
    {
     "data": {
      "image/png": "[encoded data removed]",
      "text/plain": [
       "<Figure size 864x360 with 2 Axes>"
      ]
     },
     "metadata": {
      "needs_background": "light"
     },
     "output_type": "display_data"
    }
   ],
   "source": [
    "# plot the percentages of non-major and major accidents by number of vehicles involved\n",
    "fig, axes = plt.subplots(1, 2, figsize=(12,5))\n",
    "\n",
    "sns.barplot(x=major_vehicles.index, y=major_vehicles, ax=axes[0])\n",
    "axes[0].set_xlabel(\"Number of Vehicles Involved\")\n",
    "axes[0].set_ylabel(\"Percentage of Major Accidents\")\n",
    "axes[0].set_title(\"Major Accidents and Number of Cars Involved\")\n",
    "\n",
    "sns.barplot(x=accidents_vehicles.index, y=accidents_vehicles, ax=axes[1])\n",
    "axes[1].set_xlabel(\"Number of Vehicles Involved\")\n",
    "axes[1].set_ylabel(\"Percentage of Accidents\")\n",
    "axes[1].set_title(\"Accidents Overall and Number of Cars Involved\")\n",
    "\n",
    "plt.subplots_adjust(wspace = 0.4)\n",
    "plt.show()"
   ]
  },
  {
   "cell_type": "markdown",
   "id": "5327bfac-0fed-4d61-ab80-988f1b59d092",
   "metadata": {},
   "source": [
    "While the majority of both major and all accidents involved just two vehicles--approximately 61.35% for major accidents and 66.44% for accidents overall--major accidents more frequently involved three or more vehicles than did accidents in general. In fact, approximately 26.7% of major accidents involved at least three vehicles while only about 8.86% of all accidents did."
   ]
  },
  {
   "cell_type": "markdown",
   "id": "07756eaf-cf3b-49f4-a301-ce2161875778",
   "metadata": {},
   "source": [
    "## Do major accidents tend to happen more in urban or rural areas?"
   ]
  },
  {
   "cell_type": "code",
   "execution_count": 27,
   "id": "2394eca0-c835-469a-8a79-fdd508da7c92",
   "metadata": {},
   "outputs": [
    {
     "name": "stdout",
     "output_type": "stream",
     "text": [
      "urban_or_rural_area\n",
      "Rural    48.23\n",
      "Urban    51.77\n",
      "Name: urban_or_rural_area, dtype: float64\n"
     ]
    }
   ],
   "source": [
    "# Calculate percentage of major accidents that happen in urban and rural areas\n",
    "major_urban_rural=major_accidents.groupby('urban_or_rural_area')['urban_or_rural_area'].count()/len(major_accidents)*100\n",
    "print(round(major_urban_rural,2))"
   ]
  },
  {
   "cell_type": "code",
   "execution_count": 28,
   "id": "8c3d8143-a88b-40cf-aaa4-c3d501265287",
   "metadata": {},
   "outputs": [
    {
     "name": "stdout",
     "output_type": "stream",
     "text": [
      "urban_or_rural_area\n",
      "Rural    32.29\n",
      "Urban    67.71\n",
      "Name: urban_or_rural_area, dtype: float64\n"
     ]
    }
   ],
   "source": [
    "# Drop rows in overall data where 'urban_or_rural_area' is 'Unallocated'\n",
    "accidents_allocated=accidents[accidents['urban_or_rural_area']!='Unallocated']\n",
    "\n",
    "# Calculate percentage of accidents overall that happen in urban and rural areas\n",
    "urban_rural=accidents_allocated.groupby('urban_or_rural_area')['urban_or_rural_area'].count()/len(accidents_allocated)*100\n",
    "print(round(urban_rural,2))"
   ]
  },
  {
   "cell_type": "code",
   "execution_count": 29,
   "id": "4ec196f3-9b55-4def-bbe2-353a372e97ba",
   "metadata": {},
   "outputs": [
    {
     "data": {
      "image/png": "[encoded data removed]",
      "text/plain": [
       "<Figure size 864x360 with 2 Axes>"
      ]
     },
     "metadata": {
      "needs_background": "light"
     },
     "output_type": "display_data"
    }
   ],
   "source": [
    "# plot the percentages of non-major and major accidents by whether they're in urban or rural areas\n",
    "fig, axes = plt.subplots(1, 2, figsize=(12,5))\n",
    "\n",
    "sns.barplot(x=major_urban_rural.index, y=major_urban_rural, ax=axes[0], order=['Urban','Rural'])\n",
    "axes[0].set_xlabel(\"Urban or Rural?\")\n",
    "axes[0].set_ylabel(\"Percentage of Major Accidents\")\n",
    "axes[0].set_title(\"Major Accidents in Urban and Rural Areas\")\n",
    "axes[0].set(ylim=(0,100))\n",
    "\n",
    "sns.barplot(x=urban_rural.index, y=urban_rural, ax=axes[1], order=['Urban','Rural'])\n",
    "axes[1].set_xlabel(\"Urban or Rural?\")\n",
    "axes[1].set_ylabel(\"Percentage of Accidents\")\n",
    "axes[1].set_title(\"Accidents in Urban and Rural Areas\")\n",
    "axes[1].set(ylim=(0,100))\n",
    "\n",
    "plt.subplots_adjust(wspace = 0.4)\n",
    "plt.show()"
   ]
  },
  {
   "cell_type": "markdown",
   "id": "343aefaf-8350-4263-9c8c-5368f23ad231",
   "metadata": {},
   "source": [
    "While accidents overall are overwhelmingly in urban areas--approximately 67.71% were in urban areas--major accidents were more evenly split with about 51.77% having occured in urban areas and about 48.23% in rural areas.\n",
    "\n",
    "This might suggest that in order to prevent major accidents, preventative measures should focus more in rural areas."
   ]
  },
  {
   "cell_type": "code",
   "execution_count": null,
   "id": "5e1219ab-4615-4f5d-97b7-49b7cc58b283",
   "metadata": {},
   "outputs": [],
   "source": []
  },
  {
   "cell_type": "code",
   "execution_count": null,
   "id": "f256df61-7a8f-4dfa-ad21-c173eb57e178",
   "metadata": {},
   "outputs": [],
   "source": []
  }
 ],
 "metadata": {
  "colab": {
   "name": "Welcome to DataCamp Workspaces.ipynb",
   "provenance": []
  },
  "kernelspec": {
   "display_name": "Python 3 (ipykernel)",
   "language": "python",
   "name": "python3"
  },
  "language_info": {
   "codemirror_mode": {
    "name": "ipython",
    "version": 3
   },
   "file_extension": ".py",
   "mimetype": "text/x-python",
   "name": "python",
   "nbconvert_exporter": "python",
   "pygments_lexer": "ipython3",
   "version": "3.8.10"
  }
 },
 "nbformat": 4,
 "nbformat_minor": 5
}
